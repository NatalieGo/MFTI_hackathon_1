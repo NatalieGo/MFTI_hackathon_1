{
  "cells": [
    {
      "cell_type": "markdown",
      "metadata": {
        "id": "view-in-github",
        "colab_type": "text"
      },
      "source": [
        "<a href=\"https://colab.research.google.com/github/NatalieGo/MFTI_hackathon_1/blob/main/hackaton.ipynb\" target=\"_parent\"><img src=\"https://colab.research.google.com/assets/colab-badge.svg\" alt=\"Open In Colab\"/></a>"
      ]
    },
    {
      "cell_type": "code",
      "execution_count": null,
      "id": "eb55e692",
      "metadata": {
        "id": "eb55e692"
      },
      "outputs": [],
      "source": [
        "# !pip install xgboost"
      ]
    },
    {
      "cell_type": "markdown",
      "id": "42da3b93",
      "metadata": {
        "id": "42da3b93"
      },
      "source": [
        "Описание концепции продукта\n",
        "\n",
        "Возможные области применения :\n",
        "\n",
        "Обнаружение суицидальных мыслей : набор данных можно использовать для обучения моделей автоматическому обнаружению и пометке постов, содержащих потенциально суицидальный контент, что позволяет платформам предпринимать соответствующие действия.\n",
        "\n",
        "Поддержка психического здоровья : выводы из этого набора данных можно использовать для разработки инструментов, которые предлагают ресурсы или вмешательства в области психического здоровья пользователям, проявляющим признаки стресса.\n",
        "\n",
        "Исследование анализа настроений : исследователи могут анализировать лингвистические модели и настроения как несуицидальных, так и потенциально суицидальных твитов, чтобы получить представление о языке, используемом людьми в разных эмоциональных состояниях.\n",
        "\n",
        "Осведомленность о проблемах общественного здравоохранения : набор данных можно использовать для повышения осведомленности о проблемах психического здоровья и важности ответственного использования социальных сетей.\n",
        "\n",
        "Можно использовать в том числе для контекстной рекламы психологической помощи и линии доверия.\n",
        "\n",
        "Датасет для обучения взят с kaggle.\n",
        "Также, второй датасет у нас переведен с английского на русский. Первый датасет - изначально был на русском."
      ]
    },
    {
      "cell_type": "code",
      "execution_count": null,
      "id": "58165573",
      "metadata": {
        "id": "58165573"
      },
      "outputs": [],
      "source": [
        "import numpy as np\n",
        "import pandas as pd\n",
        "import matplotlib.pyplot as plt\n",
        "import seaborn as sns\n",
        "from IPython.display import display, HTML\n",
        "from sklearn.ensemble import BaggingClassifier\n",
        "from sklearn.feature_extraction.text import TfidfVectorizer\n",
        "from sklearn.model_selection import train_test_split\n",
        "from sklearn.naive_bayes import MultinomialNB\n",
        "from sklearn.metrics import classification_report, confusion_matrix\n",
        "from sklearn.metrics import precision_recall_curve\n",
        "from sklearn.ensemble import RandomForestClassifier\n",
        "from sklearn.model_selection import GridSearchCV\n",
        "from sklearn.metrics import make_scorer, recall_score"
      ]
    },
    {
      "cell_type": "code",
      "execution_count": null,
      "id": "4ac8ac9d",
      "metadata": {
        "id": "4ac8ac9d"
      },
      "outputs": [],
      "source": [
        "dataset_path = 'C:/Users/днс/Documents/jupyter/suicid97/171224/ru_suicide2_from_json.csv'"
      ]
    },
    {
      "cell_type": "code",
      "execution_count": null,
      "id": "9c840007",
      "metadata": {
        "scrolled": true,
        "id": "9c840007",
        "outputId": "67d31c9a-1854-4744-8e61-655fa0b6168a"
      },
      "outputs": [
        {
          "data": {
            "text/html": [
              "<div>\n",
              "<style scoped>\n",
              "    .dataframe tbody tr th:only-of-type {\n",
              "        vertical-align: middle;\n",
              "    }\n",
              "\n",
              "    .dataframe tbody tr th {\n",
              "        vertical-align: top;\n",
              "    }\n",
              "\n",
              "    .dataframe thead th {\n",
              "        text-align: right;\n",
              "    }\n",
              "</style>\n",
              "<table border=\"1\" class=\"dataframe\">\n",
              "  <thead>\n",
              "    <tr style=\"text-align: right;\">\n",
              "      <th></th>\n",
              "      <th>post</th>\n",
              "      <th>category</th>\n",
              "    </tr>\n",
              "  </thead>\n",
              "  <tbody>\n",
              "    <tr>\n",
              "      <th>0</th>\n",
              "      <td>бывшая жена угрожает самоубийством недавно я н...</td>\n",
              "      <td>1</td>\n",
              "    </tr>\n",
              "    <tr>\n",
              "      <th>1</th>\n",
              "      <td>я странный на меня не влияют комплименты если ...</td>\n",
              "      <td>0</td>\n",
              "    </tr>\n",
              "    <tr>\n",
              "      <th>2</th>\n",
              "      <td>наконецто 2020 год почти закончился так что я ...</td>\n",
              "      <td>0</td>\n",
              "    </tr>\n",
              "    <tr>\n",
              "      <th>3</th>\n",
              "      <td>мне нужна помощь просто помоги мне я так плачу</td>\n",
              "      <td>1</td>\n",
              "    </tr>\n",
              "    <tr>\n",
              "      <th>4</th>\n",
              "      <td>я так растеряна здравствуйте меня зовут адам 1...</td>\n",
              "      <td>1</td>\n",
              "    </tr>\n",
              "    <tr>\n",
              "      <th>...</th>\n",
              "      <td>...</td>\n",
              "      <td>...</td>\n",
              "    </tr>\n",
              "    <tr>\n",
              "      <th>47986</th>\n",
              "      <td>я только что увидел забавный мем прежде чем по...</td>\n",
              "      <td>1</td>\n",
              "    </tr>\n",
              "    <tr>\n",
              "      <th>47987</th>\n",
              "      <td>я боюсь мне некому рассказать у меня инфекция ...</td>\n",
              "      <td>0</td>\n",
              "    </tr>\n",
              "    <tr>\n",
              "      <th>47988</th>\n",
              "      <td>педофилия членовредительство и мысли о самоуби...</td>\n",
              "      <td>1</td>\n",
              "    </tr>\n",
              "    <tr>\n",
              "      <th>47989</th>\n",
              "      <td>я больше не могу справляться почти 2 месяца на...</td>\n",
              "      <td>1</td>\n",
              "    </tr>\n",
              "    <tr>\n",
              "      <th>47990</th>\n",
              "      <td>мне нужен ктото кто сделает сюрприз моему двою...</td>\n",
              "      <td>0</td>\n",
              "    </tr>\n",
              "  </tbody>\n",
              "</table>\n",
              "<p>47991 rows × 2 columns</p>\n",
              "</div>"
            ],
            "text/plain": [
              "                                                    post  category\n",
              "0      бывшая жена угрожает самоубийством недавно я н...         1\n",
              "1      я странный на меня не влияют комплименты если ...         0\n",
              "2      наконецто 2020 год почти закончился так что я ...         0\n",
              "3         мне нужна помощь просто помоги мне я так плачу         1\n",
              "4      я так растеряна здравствуйте меня зовут адам 1...         1\n",
              "...                                                  ...       ...\n",
              "47986  я только что увидел забавный мем прежде чем по...         1\n",
              "47987  я боюсь мне некому рассказать у меня инфекция ...         0\n",
              "47988  педофилия членовредительство и мысли о самоуби...         1\n",
              "47989  я больше не могу справляться почти 2 месяца на...         1\n",
              "47990  мне нужен ктото кто сделает сюрприз моему двою...         0\n",
              "\n",
              "[47991 rows x 2 columns]"
            ]
          },
          "metadata": {},
          "output_type": "display_data"
        },
        {
          "name": "stdout",
          "output_type": "stream",
          "text": [
            "<class 'pandas.core.frame.DataFrame'>\n",
            "RangeIndex: 47991 entries, 0 to 47990\n",
            "Data columns (total 2 columns):\n",
            " #   Column    Non-Null Count  Dtype \n",
            "---  ------    --------------  ----- \n",
            " 0   post      47991 non-null  object\n",
            " 1   category  47991 non-null  int64 \n",
            "dtypes: int64(1), object(1)\n",
            "memory usage: 750.0+ KB\n"
          ]
        },
        {
          "data": {
            "text/plain": [
              "None"
            ]
          },
          "metadata": {},
          "output_type": "display_data"
        }
      ],
      "source": [
        "df = pd.read_csv(dataset_path,sep=';')\n",
        "display(df)\n",
        "display(df.info())"
      ]
    },
    {
      "cell_type": "markdown",
      "id": "0cc3d9cb",
      "metadata": {
        "id": "0cc3d9cb"
      },
      "source": [
        "**Модели машинного обучения**\n",
        "\n",
        "Здесь решаем задачу классификации при работе с текстом.\n",
        "\n",
        "Для решения задачи используем одну из 3 трех моделей, которая покажет лучший результат:\n",
        "MultinomialNB, RandomForestClassifier, BaggingClassifier"
      ]
    },
    {
      "cell_type": "code",
      "execution_count": null,
      "id": "406b9705",
      "metadata": {
        "id": "406b9705"
      },
      "outputs": [],
      "source": []
    },
    {
      "cell_type": "markdown",
      "id": "2a40e43c",
      "metadata": {
        "id": "2a40e43c"
      },
      "source": [
        "import numpy as np # linear algebra\n",
        "import pandas as pd # data processing, CSV file I/O (e.g. pd.read_csv)\n",
        "import os\n",
        "import nltk\n",
        "nltk.download('punkt')"
      ]
    },
    {
      "cell_type": "code",
      "execution_count": null,
      "id": "d3433843",
      "metadata": {
        "id": "d3433843"
      },
      "outputs": [],
      "source": [
        "# work_dataset_path = 'C:/Users/днс/Documents/jupyter/suicid97/ru_Suicide_new.csv'\n",
        "# for dirname, _, filenames in os.walk('C:/Users/днс/Documents/jupyter/suicid97/'):\n",
        "#     for filename in filenames:\n",
        "#         print(os.path.join(dirname, filename))"
      ]
    },
    {
      "cell_type": "markdown",
      "id": "061d0eb2",
      "metadata": {
        "id": "061d0eb2"
      },
      "source": [
        "import numpy as np\n",
        "import pandas as pd\n",
        "import re\n",
        "import nltk\n",
        "import string\n",
        "import seaborn as sns\n",
        "import matplotlib.pyplot as plt\n",
        "\n",
        "from sklearn.tree import DecisionTreeClassifier\n",
        "\n",
        "\n",
        "from nltk.corpus import stopwords\n",
        "from nltk.stem.porter import PorterStemmer\n",
        "from sklearn.feature_extraction.text import CountVectorizer\n",
        "from sklearn.preprocessing import LabelEncoder\n",
        "from nltk.tokenize import word_tokenize\n",
        "from sklearn.model_selection import train_test_split\n",
        "from sklearn.feature_extraction.text import TfidfVectorizer\n",
        "from xgboost import XGBClassifier\n",
        "from sklearn.metrics import (accuracy_score, recall_score, f1_score, confusion_matrix, ConfusionMatrixDisplay,\n",
        "                             classification_report, roc_curve, auc)\n",
        "from sklearn.metrics import confusion_matrix\n",
        "# Input data files are available in the read-only \"../input/\" directory\n",
        "# For example, running this (by clicking run or pressing Shift+Enter) will list all files under the input directory\n",
        "import numpy as np\n",
        "\n",
        "\n",
        "from sklearn.metrics import classification_report, confusion_matrix\n",
        "\n",
        "import io\n",
        "import json\n",
        "import matplotlib.pyplot as plt\n",
        "from sklearn.metrics import confusion_matrix\n",
        "\n",
        "import os\n",
        "for dirname, _, filenames in os.walk('/kaggle/input'):\n",
        "    for filename in filenames:\n",
        "        print(os.path.join(dirname, filename))\n",
        "\n",
        "# You can write up to 20GB to the current directory (/kaggle/working/) that gets preserved as output when you create a version using \"Save & Run All\"\n",
        "# You can also write temporary files to /kaggle/temp/, but they won't be saved outside of the current session"
      ]
    },
    {
      "cell_type": "code",
      "execution_count": null,
      "id": "5f222e46",
      "metadata": {
        "id": "5f222e46",
        "outputId": "5ab1fbf2-07c9-42db-8c98-61e4f5541ef1"
      },
      "outputs": [
        {
          "name": "stdout",
          "output_type": "stream",
          "text": [
            "<class 'pandas.core.frame.DataFrame'>\n",
            "RangeIndex: 47991 entries, 0 to 47990\n",
            "Data columns (total 2 columns):\n",
            " #   Column    Non-Null Count  Dtype \n",
            "---  ------    --------------  ----- \n",
            " 0   post      47991 non-null  object\n",
            " 1   category  47991 non-null  int64 \n",
            "dtypes: int64(1), object(1)\n",
            "memory usage: 750.0+ KB\n"
          ]
        }
      ],
      "source": [
        "data.info()"
      ]
    },
    {
      "cell_type": "code",
      "execution_count": null,
      "id": "e81b13b5",
      "metadata": {
        "id": "e81b13b5"
      },
      "outputs": [],
      "source": [
        "X = df['post']\n",
        "y = df['category']"
      ]
    },
    {
      "cell_type": "code",
      "execution_count": null,
      "id": "6636a0e7",
      "metadata": {
        "id": "6636a0e7"
      },
      "outputs": [],
      "source": [
        "vectorizer = TfidfVectorizer(max_features = 50000)\n",
        "X = vectorizer.fit_transform(X)\n",
        "X_train, X_test, y_train, y_test = train_test_split(X, y, test_size=0.2)"
      ]
    },
    {
      "cell_type": "code",
      "execution_count": null,
      "id": "bebf4ee0",
      "metadata": {
        "id": "bebf4ee0",
        "outputId": "62139797-5d75-4fe8-d91c-11311a6180b4"
      },
      "outputs": [
        {
          "name": "stdout",
          "output_type": "stream",
          "text": [
            "              precision    recall  f1-score   support\n",
            "\n",
            "           0       0.96      0.78      0.86      4818\n",
            "           1       0.81      0.97      0.88      4781\n",
            "\n",
            "    accuracy                           0.87      9599\n",
            "   macro avg       0.89      0.87      0.87      9599\n",
            "weighted avg       0.89      0.87      0.87      9599\n",
            "\n"
          ]
        }
      ],
      "source": [
        "clf = MultinomialNB()\n",
        "clf.fit(X_train, y_train)\n",
        "\n",
        "y_pred = clf.predict(X_test)\n",
        "\n",
        "repot_MultinomialNB = classification_report(y_test, y_pred)\n",
        "print(repot_MultinomialNB)"
      ]
    },
    {
      "cell_type": "markdown",
      "id": "22cb7791",
      "metadata": {
        "id": "22cb7791"
      },
      "source": [
        "Здесь precision - сколько предсказаний действительно относится к данному классу /  TP / (TP+FP)\n",
        "\n",
        "Recall показывает, сколько предсказаний определённого класса верно. /  TP / (TP+FN)\n",
        "Наиболее важная для нас, т.к. лучше получить больше ошибочно ложных, чем пропускать истинные случаи.\n",
        "\n",
        "F1-score — это геометрическое среднее точности и полноты. / 2 (Precision recall) / (Precision + recall)\n",
        "\n",
        "Support — фактическое количество примеров данного класса."
      ]
    },
    {
      "cell_type": "code",
      "execution_count": null,
      "id": "70d6b79d",
      "metadata": {
        "id": "70d6b79d",
        "outputId": "3fd2c425-cca4-4935-d0c9-859d1a365792"
      },
      "outputs": [
        {
          "data": {
            "image/png": "[encoded data removed]",
            "text/plain": [
              "<Figure size 432x288 with 2 Axes>"
            ]
          },
          "metadata": {
            "needs_background": "light"
          },
          "output_type": "display_data"
        }
      ],
      "source": [
        "cm = confusion_matrix(y_test, y_pred)\n",
        "sns.heatmap(cm, annot=True, fmt='g', cmap='Blues')\n",
        "plt.xlabel('Predicted labels')\n",
        "plt.ylabel('True labels')\n",
        "plt.title('Confusion Matrix')\n",
        "plt.show()"
      ]
    },
    {
      "cell_type": "code",
      "execution_count": null,
      "id": "42dfb6bd",
      "metadata": {
        "id": "42dfb6bd",
        "outputId": "0b1de00a-9487-460c-95df-f4a157a3b4f7"
      },
      "outputs": [
        {
          "data": {
            "image/png": "[encoded data removed]",
            "text/plain": [
              "<Figure size 432x288 with 1 Axes>"
            ]
          },
          "metadata": {
            "needs_background": "light"
          },
          "output_type": "display_data"
        }
      ],
      "source": [
        "precision, recall, _ = precision_recall_curve(y_test, clf.predict_proba(X_test)[:,1])\n",
        "\n",
        "plt.figure()\n",
        "plt.plot(recall, precision, color='darkorange', lw=2)\n",
        "plt.xlabel('Recall')\n",
        "plt.ylabel('Precision')\n",
        "plt.title('Precision-Recall Curve')\n",
        "plt.show()"
      ]
    },
    {
      "cell_type": "markdown",
      "id": "c9934978",
      "metadata": {
        "id": "c9934978"
      },
      "source": [
        "Теперь попробуем то же самое с моделью RandomForestClassifier"
      ]
    },
    {
      "cell_type": "code",
      "execution_count": null,
      "id": "5efae903",
      "metadata": {
        "id": "5efae903",
        "outputId": "5c1ac262-9518-4fd4-ce5b-c1914557a700"
      },
      "outputs": [
        {
          "name": "stdout",
          "output_type": "stream",
          "text": [
            "              precision    recall  f1-score   support\n",
            "\n",
            "           0       0.85      0.90      0.87      4818\n",
            "           1       0.89      0.84      0.87      4781\n",
            "\n",
            "    accuracy                           0.87      9599\n",
            "   macro avg       0.87      0.87      0.87      9599\n",
            "weighted avg       0.87      0.87      0.87      9599\n",
            "\n"
          ]
        }
      ],
      "source": [
        "rf_n_model = RandomForestClassifier(n_estimators=30, random_state=22)\n",
        "\n",
        "rf_n_model.fit(X_train, y_train)\n",
        "\n",
        "y_pred = rf_n_model.predict(X_test)\n",
        "repot_random_forest = classification_report(y_test, y_pred)\n",
        "print(repot_random_forest)"
      ]
    },
    {
      "cell_type": "code",
      "execution_count": null,
      "id": "c499549b",
      "metadata": {
        "id": "c499549b",
        "outputId": "6f113141-667e-43dc-a292-97f1fe0017a2"
      },
      "outputs": [
        {
          "data": {
            "image/png": "[encoded data removed]",
            "text/plain": [
              "<Figure size 432x288 with 2 Axes>"
            ]
          },
          "metadata": {
            "needs_background": "light"
          },
          "output_type": "display_data"
        }
      ],
      "source": [
        "cm = confusion_matrix(y_test, y_pred)\n",
        "sns.heatmap(cm, annot=True, fmt='g', cmap='Blues')\n",
        "plt.xlabel('Predicted labels')\n",
        "plt.ylabel('True labels')\n",
        "plt.title('Confusion Matrix')\n",
        "plt.show()"
      ]
    },
    {
      "cell_type": "code",
      "execution_count": null,
      "id": "7f2f1ecc",
      "metadata": {
        "id": "7f2f1ecc",
        "outputId": "14c0fdc7-e7be-455a-ee86-07d229659d76"
      },
      "outputs": [
        {
          "data": {
            "image/png": "[encoded data removed]",
            "text/plain": [
              "<Figure size 432x288 with 1 Axes>"
            ]
          },
          "metadata": {
            "needs_background": "light"
          },
          "output_type": "display_data"
        }
      ],
      "source": [
        "precision, recall, _ = precision_recall_curve(y_test, rf_n_model.predict_proba(X_test)[:,1])\n",
        "\n",
        "plt.figure()\n",
        "plt.plot(recall, precision, color='darkorange', lw=2)\n",
        "plt.xlabel('Recall')\n",
        "plt.ylabel('Precision')\n",
        "plt.title('Precision-Recall Curve')\n",
        "plt.show()"
      ]
    },
    {
      "cell_type": "markdown",
      "id": "2b67d806",
      "metadata": {
        "id": "2b67d806"
      },
      "source": [
        "А если попробовать оптимизировать случайный лес?"
      ]
    },
    {
      "cell_type": "code",
      "execution_count": null,
      "id": "faf78c2a",
      "metadata": {
        "id": "faf78c2a",
        "outputId": "e1541ae0-59d9-410e-d7b0-36cae003db4c"
      },
      "outputs": [
        {
          "data": {
            "text/plain": [
              "GridSearchCV(cv=5, estimator=RandomForestClassifier(random_state=42),\n",
              "             param_grid={'class_weight': ['balanced'],\n",
              "                         'max_depth': [None, 10, 20],\n",
              "                         'max_features': ['auto', 'sqrt'],\n",
              "                         'min_samples_leaf': [1, 2, 4],\n",
              "                         'min_samples_split': [2, 5, 10],\n",
              "                         'n_estimators': [50, 100, 200]},\n",
              "             refit='recall', return_train_score=True,\n",
              "             scoring={'recall': make_scorer(recall_score)})"
            ]
          },
          "execution_count": 73,
          "metadata": {},
          "output_type": "execute_result"
        }
      ],
      "source": [
        "# Создаем экземпляр классификатора\n",
        "rf = RandomForestClassifier(random_state=42)\n",
        "\n",
        "# Определяем пространство поиска гиперпараметров\n",
        "param_grid = {\n",
        "    'n_estimators': [50, 100, 200],\n",
        "    'max_depth': [None, 10, 20],\n",
        "    'min_samples_split': [2, 5, 10],\n",
        "    'min_samples_leaf': [1, 2, 4],\n",
        "    'max_features': ['auto', 'sqrt'],\n",
        "    'class_weight': ['balanced']\n",
        "}\n",
        "\n",
        "# Используем функцию recall_score в качестве метрики оценки\n",
        "scoring = {'recall': make_scorer(recall_score)}\n",
        ",\n",
        "\n",
        "# Инициализируем объект GridSearchCV\n",
        "grid_search = GridSearchCV(estimator=rf,\n",
        "                           param_grid=param_grid,\n",
        "                           scoring=scoring,\n",
        "                           refit='recall',\n",
        "                           cv=5,\n",
        "                           return_train_score=True)\n",
        "\n",
        "# Выполняем поиск лучших параметров\n",
        "grid_search.fit(X_train, y_train)"
      ]
    },
    {
      "cell_type": "code",
      "execution_count": null,
      "id": "167ec03a",
      "metadata": {
        "id": "167ec03a",
        "outputId": "2bc98180-1ebd-4343-b4f7-b5fd2e335442"
      },
      "outputs": [
        {
          "name": "stdout",
          "output_type": "stream",
          "text": [
            "Лучшие параметры: {'class_weight': 'balanced', 'max_depth': None, 'max_features': 'auto', 'min_samples_leaf': 1, 'min_samples_split': 10, 'n_estimators': 200}\n",
            "Лучший Recall: 0.883499582232114\n"
          ]
        }
      ],
      "source": [
        "print(\"Лучшие параметры:\", grid_search.best_params_)\n",
        "print(\"Лучший Recall:\", grid_search.best_score_)"
      ]
    },
    {
      "cell_type": "code",
      "execution_count": null,
      "id": "fd2dd725",
      "metadata": {
        "id": "fd2dd725",
        "outputId": "110ca6ad-b592-4818-e2ad-07da0f9277b7"
      },
      "outputs": [
        {
          "name": "stdout",
          "output_type": "stream",
          "text": [
            "              precision    recall  f1-score   support\n",
            "\n",
            "           0       0.89      0.89      0.89      4818\n",
            "           1       0.88      0.88      0.88      4781\n",
            "\n",
            "    accuracy                           0.88      9599\n",
            "   macro avg       0.88      0.88      0.88      9599\n",
            "weighted avg       0.88      0.88      0.88      9599\n",
            "\n"
          ]
        }
      ],
      "source": [
        "rf_n_model = RandomForestClassifier(n_estimators=200, random_state=22, class_weight='balanced',\n",
        "                                    max_depth=None, max_features='auto', min_samples_leaf=1,\n",
        "                                    min_samples_split=10)\n",
        "\n",
        "rf_n_model.fit(X_train, y_train)\n",
        "\n",
        "y_pred = rf_n_model.predict(X_test)\n",
        "repot_random_forest = classification_report(y_test, y_pred)\n",
        "print(repot_random_forest)"
      ]
    },
    {
      "cell_type": "markdown",
      "id": "cc6a835e",
      "metadata": {
        "id": "cc6a835e"
      },
      "source": [
        "В целом видим небольшое улучшение качества предсказаний модели, по сравнению с вариантом до оптимизации."
      ]
    },
    {
      "cell_type": "markdown",
      "id": "cf5c4165",
      "metadata": {
        "id": "cf5c4165"
      },
      "source": [
        "И попробуем третью модель"
      ]
    },
    {
      "cell_type": "code",
      "execution_count": null,
      "id": "e8ad7a5a",
      "metadata": {
        "id": "e8ad7a5a",
        "outputId": "84d42938-8a5b-496d-b850-989e15313020"
      },
      "outputs": [
        {
          "name": "stdout",
          "output_type": "stream",
          "text": [
            "              precision    recall  f1-score   support\n",
            "\n",
            "           0       0.86      0.89      0.88      4818\n",
            "           1       0.89      0.85      0.87      4781\n",
            "\n",
            "    accuracy                           0.87      9599\n",
            "   macro avg       0.87      0.87      0.87      9599\n",
            "weighted avg       0.87      0.87      0.87      9599\n",
            "\n"
          ]
        }
      ],
      "source": [
        "bg=BaggingClassifier()\n",
        "bg.fit(X_train, y_train)\n",
        "\n",
        "y_pred = bg.predict(X_test)\n",
        "report_bagging_classifier = classification_report(y_test, y_pred)\n",
        "print(report_bagging_classifier)"
      ]
    },
    {
      "cell_type": "code",
      "execution_count": null,
      "id": "b118a854",
      "metadata": {
        "id": "b118a854",
        "outputId": "c1401f7a-435d-4d12-d0c0-a2bcaccfe2c5"
      },
      "outputs": [
        {
          "data": {
            "image/png": "[encoded data removed]",
            "text/plain": [
              "<Figure size 432x288 with 2 Axes>"
            ]
          },
          "metadata": {
            "needs_background": "light"
          },
          "output_type": "display_data"
        }
      ],
      "source": [
        "cm = confusion_matrix(y_test, y_pred)\n",
        "sns.heatmap(cm, annot=True, fmt='g', cmap='Blues')\n",
        "plt.xlabel('Predicted labels')\n",
        "plt.ylabel('True labels')\n",
        "plt.title('Confusion Matrix')\n",
        "plt.show()"
      ]
    },
    {
      "cell_type": "code",
      "execution_count": null,
      "id": "4561f628",
      "metadata": {
        "id": "4561f628",
        "outputId": "0fc24e39-845d-456f-9545-a0f36fa9ff47"
      },
      "outputs": [
        {
          "data": {
            "image/png": "[encoded data removed]",
            "text/plain": [
              "<Figure size 432x288 with 1 Axes>"
            ]
          },
          "metadata": {
            "needs_background": "light"
          },
          "output_type": "display_data"
        }
      ],
      "source": [
        "precision, recall, _ = precision_recall_curve(y_test, rf_n_model.predict_proba(X_test)[:,1])\n",
        "\n",
        "plt.figure()\n",
        "plt.plot(recall, precision, color='darkorange', lw=2)\n",
        "plt.xlabel('Recall')\n",
        "plt.ylabel('Precision')\n",
        "plt.title('Precision-Recall Curve')\n",
        "plt.show()"
      ]
    },
    {
      "cell_type": "markdown",
      "id": "55d0fa61",
      "metadata": {
        "id": "55d0fa61"
      },
      "source": [
        "Итого, сравнив 3 модели получаем, что по recall по классу 1 выигрывает MultinomialNB с результатом 0.97."
      ]
    },
    {
      "cell_type": "code",
      "execution_count": null,
      "id": "f76e58ed",
      "metadata": {
        "id": "f76e58ed",
        "outputId": "e43627b2-9369-4f2a-93d6-187420b96733"
      },
      "outputs": [
        {
          "name": "stdout",
          "output_type": "stream",
          "text": [
            "MultinomialNB\n",
            "              precision    recall  f1-score   support\n",
            "\n",
            "           0       0.96      0.78      0.86      4818\n",
            "           1       0.81      0.97      0.88      4781\n",
            "\n",
            "    accuracy                           0.87      9599\n",
            "   macro avg       0.89      0.87      0.87      9599\n",
            "weighted avg       0.89      0.87      0.87      9599\n",
            "\n",
            "RandomForestClassifier\n",
            "              precision    recall  f1-score   support\n",
            "\n",
            "           0       0.89      0.89      0.89      4818\n",
            "           1       0.88      0.88      0.88      4781\n",
            "\n",
            "    accuracy                           0.88      9599\n",
            "   macro avg       0.88      0.88      0.88      9599\n",
            "weighted avg       0.88      0.88      0.88      9599\n",
            "\n",
            "BaggingClassifier\n",
            "              precision    recall  f1-score   support\n",
            "\n",
            "           0       0.86      0.89      0.88      4818\n",
            "           1       0.89      0.85      0.87      4781\n",
            "\n",
            "    accuracy                           0.87      9599\n",
            "   macro avg       0.87      0.87      0.87      9599\n",
            "weighted avg       0.87      0.87      0.87      9599\n",
            "\n"
          ]
        }
      ],
      "source": [
        "print('MultinomialNB')\n",
        "print(repot_MultinomialNB)\n",
        "print('RandomForestClassifier')\n",
        "print(repot_random_forest)\n",
        "print('BaggingClassifier')\n",
        "print(report_bagging_classifier)"
      ]
    },
    {
      "cell_type": "markdown",
      "id": "c2eeb900",
      "metadata": {
        "id": "c2eeb900"
      },
      "source": [
        "Теперь посмотреть результаты наших уже обученных моделей на втором датасете, русскоязычном"
      ]
    },
    {
      "cell_type": "code",
      "execution_count": null,
      "id": "43aa741c",
      "metadata": {
        "id": "43aa741c",
        "outputId": "4b7429f2-10ae-4846-e24f-965eaa94fb04"
      },
      "outputs": [
        {
          "data": {
            "text/html": [
              "<div>\n",
              "<style scoped>\n",
              "    .dataframe tbody tr th:only-of-type {\n",
              "        vertical-align: middle;\n",
              "    }\n",
              "\n",
              "    .dataframe tbody tr th {\n",
              "        vertical-align: top;\n",
              "    }\n",
              "\n",
              "    .dataframe thead th {\n",
              "        text-align: right;\n",
              "    }\n",
              "</style>\n",
              "<table border=\"1\" class=\"dataframe\">\n",
              "  <thead>\n",
              "    <tr style=\"text-align: right;\">\n",
              "      <th></th>\n",
              "      <th>post</th>\n",
              "      <th>category</th>\n",
              "    </tr>\n",
              "  </thead>\n",
              "  <tbody>\n",
              "    <tr>\n",
              "      <th>0</th>\n",
              "      <td>бывшая жена угрожает самоубийством недавно я н...</td>\n",
              "      <td>1</td>\n",
              "    </tr>\n",
              "    <tr>\n",
              "      <th>1</th>\n",
              "      <td>я странный на меня не влияют комплименты если ...</td>\n",
              "      <td>0</td>\n",
              "    </tr>\n",
              "    <tr>\n",
              "      <th>2</th>\n",
              "      <td>наконецто 2020 год почти закончился так что я ...</td>\n",
              "      <td>0</td>\n",
              "    </tr>\n",
              "    <tr>\n",
              "      <th>3</th>\n",
              "      <td>мне нужна помощь просто помоги мне я так плачу</td>\n",
              "      <td>1</td>\n",
              "    </tr>\n",
              "    <tr>\n",
              "      <th>4</th>\n",
              "      <td>я так растеряна здравствуйте меня зовут адам 1...</td>\n",
              "      <td>1</td>\n",
              "    </tr>\n",
              "  </tbody>\n",
              "</table>\n",
              "</div>"
            ],
            "text/plain": [
              "                                                post  category\n",
              "0  бывшая жена угрожает самоубийством недавно я н...         1\n",
              "1  я странный на меня не влияют комплименты если ...         0\n",
              "2  наконецто 2020 год почти закончился так что я ...         0\n",
              "3     мне нужна помощь просто помоги мне я так плачу         1\n",
              "4  я так растеряна здравствуйте меня зовут адам 1...         1"
            ]
          },
          "execution_count": 68,
          "metadata": {},
          "output_type": "execute_result"
        }
      ],
      "source": [
        "file_path_2 = 'C:/Users/днс/Documents/jupyter/suicid97/171224/translated.csv'\n",
        "data = pd.read_csv(file_path_2,sep=';')\n",
        "# data['category'] = data['category'].astype('category').cat.codes\n",
        "data.head()"
      ]
    },
    {
      "cell_type": "code",
      "execution_count": null,
      "id": "b080bffd",
      "metadata": {
        "id": "b080bffd",
        "outputId": "7287c13c-f73f-45d0-97bd-aca068a27b67"
      },
      "outputs": [
        {
          "name": "stdout",
          "output_type": "stream",
          "text": [
            "              precision    recall  f1-score   support\n",
            "\n",
            "           0       0.49      0.96      0.65     24076\n",
            "           1       0.28      0.02      0.03     23914\n",
            "\n",
            "    accuracy                           0.49     47990\n",
            "   macro avg       0.39      0.49      0.34     47990\n",
            "weighted avg       0.39      0.49      0.34     47990\n",
            "\n"
          ]
        }
      ],
      "source": [
        "x = data['post']\n",
        "X = vectorizer.fit_transform(x)\n",
        "y = data['category']\n",
        "y_pred = clf.predict(X)\n",
        "repot_MultinomialNB_2 = classification_report(y, y_pred)\n",
        "print(repot_MultinomialNB_2)"
      ]
    },
    {
      "cell_type": "code",
      "execution_count": null,
      "id": "7544697d",
      "metadata": {
        "id": "7544697d"
      },
      "outputs": [],
      "source": [
        "cm = confusion_matrix(y_test, y_pred)\n",
        "sns.heatmap(cm, annot=True, fmt='g', cmap='Blues')\n",
        "plt.xlabel('Predicted labels')\n",
        "plt.ylabel('True labels')\n",
        "plt.title('Confusion Matrix')\n",
        "plt.show()"
      ]
    },
    {
      "cell_type": "markdown",
      "source": [
        "Отсюда делаем вывод, что с переведенным текстом модель не справляется."
      ],
      "metadata": {
        "id": "-TjSIg45wzgL"
      },
      "id": "-TjSIg45wzgL"
    },
    {
      "cell_type": "code",
      "execution_count": null,
      "id": "038e12cb",
      "metadata": {
        "id": "038e12cb"
      },
      "outputs": [],
      "source": [
        "val_dataset_path = 'C:/Users/днс/Documents/jupyter/suicid97/translated.csv'\n",
        "df = pd.read_csv(val_dataset_path, sep=';')\n"
      ]
    }
  ],
  "metadata": {
    "kernelspec": {
      "display_name": "Python 3",
      "language": "python",
      "name": "python3"
    },
    "language_info": {
      "codemirror_mode": {
        "name": "ipython",
        "version": 3
      },
      "file_extension": ".py",
      "mimetype": "text/x-python",
      "name": "python",
      "nbconvert_exporter": "python",
      "pygments_lexer": "ipython3",
      "version": "3.8.8"
    },
    "colab": {
      "provenance": [],
      "include_colab_link": true
    }
  },
  "nbformat": 4,
  "nbformat_minor": 5
}