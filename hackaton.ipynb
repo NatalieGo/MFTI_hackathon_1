{
  "cells": [
    {
      "cell_type": "markdown",
      "metadata": {
        "id": "view-in-github",
        "colab_type": "text"
      },
      "source": [
        "<a href=\"https://colab.research.google.com/github/NatalieGo/MFTI_hackathon_1/blob/main/hackaton.ipynb\" target=\"_parent\"><img src=\"https://colab.research.google.com/assets/colab-badge.svg\" alt=\"Open In Colab\"/></a>"
      ]
    },
    {
      "cell_type": "code",
      "execution_count": null,
      "id": "eb55e692",
      "metadata": {
        "id": "eb55e692"
      },
      "outputs": [],
      "source": [
        "# !pip install xgboost"
      ]
    },
    {
      "cell_type": "markdown",
      "id": "08bf59eb",
      "metadata": {
        "id": "08bf59eb"
      },
      "source": [
        "**Модель для распознавания по постам склонных к суициду людей.**\n",
        "\n",
        "**Описание концепции продукта**\n",
        "\n",
        "*Возможные области применения :*\n",
        "\n",
        "Обнаружение суицидальных мыслей : набор данных можно использовать для обучения моделей автоматическому обнаружению и пометке постов, содержащих потенциально суицидальный контент, что позволяет платформам предпринимать соответствующие действия.\n",
        "Поддержка психического здоровья : выводы из этого набора данных можно использовать для разработки инструментов, которые предлагают ресурсы или вмешательства в области психического здоровья пользователям, проявляющим признаки стресса.\n",
        "Исследование анализа настроений : исследователи могут анализировать лингвистические модели и настроения как несуицидальных, так и потенциально суицидальных твитов, чтобы получить представление о языке, используемом людьми в разных эмоциональных состояниях.\n",
        "Осведомленность о проблемах общественного здравоохранения : набор данных можно использовать для повышения осведомленности о проблемах психического здоровья и важности ответственного использования социальных сетей.\n",
        "Можно использовать в том числе для контекстной рекламы психологической помощи и линии доверия.\n",
        "\n",
        "#TODO: подумать и написать лучше\n"
      ]
    },
    {
      "cell_type": "markdown",
      "id": "42da3b93",
      "metadata": {
        "id": "42da3b93"
      },
      "source": [
        "Датасет для обучения взят с kaggle: #TODO: добавить ссылки на датасет\n",
        "Также, первый датасет у нас переведен с английского на русский. Второй датасет - изначально был на русском."
      ]
    },
    {
      "cell_type": "code",
      "execution_count": null,
      "id": "58165573",
      "metadata": {
        "id": "58165573"
      },
      "outputs": [],
      "source": [
        "import numpy as np\n",
        "import pandas as pd\n",
        "import matplotlib.pyplot as plt\n",
        "from IPython.display import display, HTML\n",
        "from sklearn.ensemble import BaggingClassifier"
      ]
    },
    {
      "cell_type": "code",
      "execution_count": null,
      "id": "4ac8ac9d",
      "metadata": {
        "id": "4ac8ac9d"
      },
      "outputs": [],
      "source": [
        "#TODO: какой путь будет во время защиты?\n",
        "dataset_path = 'C:/Users/днс/Documents/jupyter/suicid97/ru_Suicide.csv'"
      ]
    },
    {
      "cell_type": "code",
      "execution_count": null,
      "id": "9c840007",
      "metadata": {
        "scrolled": true,
        "id": "9c840007",
        "outputId": "a4d3cb69-66a0-4c75-b933-3d48671742e5"
      },
      "outputs": [
        {
          "data": {
            "text/html": [
              "<div>\n",
              "<style scoped>\n",
              "    .dataframe tbody tr th:only-of-type {\n",
              "        vertical-align: middle;\n",
              "    }\n",
              "\n",
              "    .dataframe tbody tr th {\n",
              "        vertical-align: top;\n",
              "    }\n",
              "\n",
              "    .dataframe thead th {\n",
              "        text-align: right;\n",
              "    }\n",
              "</style>\n",
              "<table border=\"1\" class=\"dataframe\">\n",
              "  <thead>\n",
              "    <tr style=\"text-align: right;\">\n",
              "      <th></th>\n",
              "      <th>Твитнуть</th>\n",
              "      <th>Самоубийство</th>\n",
              "    </tr>\n",
              "  </thead>\n",
              "  <tbody>\n",
              "    <tr>\n",
              "      <th>0</th>\n",
              "      <td>готовлю обед</td>\n",
              "      <td>Не суицидный пост</td>\n",
              "    </tr>\n",
              "    <tr>\n",
              "      <th>1</th>\n",
              "      <td>@Alexia Тебе нужны его деньги.</td>\n",
              "      <td>Не суицидный пост</td>\n",
              "    </tr>\n",
              "    <tr>\n",
              "      <th>2</th>\n",
              "      <td>@dizzyhrvy мне потребовалась целая вечность, ч...</td>\n",
              "      <td>Пост о потенциальном самоубийстве</td>\n",
              "    </tr>\n",
              "    <tr>\n",
              "      <th>3</th>\n",
              "      <td>@jnaylor #kiwitweets Привет, Джер! С каких это...</td>\n",
              "      <td>Не суицидный пост</td>\n",
              "    </tr>\n",
              "    <tr>\n",
              "      <th>4</th>\n",
              "      <td>Пробуем «Вкусную библиотеку 2»; с неоднозначны...</td>\n",
              "      <td>Не суицидный пост</td>\n",
              "    </tr>\n",
              "    <tr>\n",
              "      <th>...</th>\n",
              "      <td>...</td>\n",
              "      <td>...</td>\n",
              "    </tr>\n",
              "    <tr>\n",
              "      <th>1782</th>\n",
              "      <td>я забыл, как сильно я люблю свою Nokia N95-1</td>\n",
              "      <td>Не суицидный пост</td>\n",
              "    </tr>\n",
              "    <tr>\n",
              "      <th>1783</th>\n",
              "      <td>Начинаю свой день с позитива! Чтобы быть велик...</td>\n",
              "      <td>Не суицидный пост</td>\n",
              "    </tr>\n",
              "    <tr>\n",
              "      <th>1784</th>\n",
              "      <td>@belledame222 Эй, сейчас 5 утра... отдай должн...</td>\n",
              "      <td>Не суицидный пост</td>\n",
              "    </tr>\n",
              "    <tr>\n",
              "      <th>1785</th>\n",
              "      <td>Две пьяные подруги вваливаются в мою комнату, ...</td>\n",
              "      <td>Не суицидный пост</td>\n",
              "    </tr>\n",
              "    <tr>\n",
              "      <th>1786</th>\n",
              "      <td>@dancingbonita &amp;quot;Я чертовски люблю тебя!!!...</td>\n",
              "      <td>Не суицидный пост</td>\n",
              "    </tr>\n",
              "  </tbody>\n",
              "</table>\n",
              "<p>1787 rows × 2 columns</p>\n",
              "</div>"
            ],
            "text/plain": [
              "                                               Твитнуть  \\\n",
              "0                                          готовлю обед   \n",
              "1                        @Alexia Тебе нужны его деньги.   \n",
              "2     @dizzyhrvy мне потребовалась целая вечность, ч...   \n",
              "3     @jnaylor #kiwitweets Привет, Джер! С каких это...   \n",
              "4     Пробуем «Вкусную библиотеку 2»; с неоднозначны...   \n",
              "...                                                 ...   \n",
              "1782       я забыл, как сильно я люблю свою Nokia N95-1   \n",
              "1783  Начинаю свой день с позитива! Чтобы быть велик...   \n",
              "1784  @belledame222 Эй, сейчас 5 утра... отдай должн...   \n",
              "1785  Две пьяные подруги вваливаются в мою комнату, ...   \n",
              "1786  @dancingbonita &quot;Я чертовски люблю тебя!!!...   \n",
              "\n",
              "                           Самоубийство  \n",
              "0                     Не суицидный пост  \n",
              "1                     Не суицидный пост  \n",
              "2     Пост о потенциальном самоубийстве  \n",
              "3                     Не суицидный пост  \n",
              "4                     Не суицидный пост  \n",
              "...                                 ...  \n",
              "1782                  Не суицидный пост  \n",
              "1783                  Не суицидный пост  \n",
              "1784                  Не суицидный пост  \n",
              "1785                  Не суицидный пост  \n",
              "1786                  Не суицидный пост  \n",
              "\n",
              "[1787 rows x 2 columns]"
            ]
          },
          "metadata": {},
          "output_type": "display_data"
        },
        {
          "name": "stdout",
          "output_type": "stream",
          "text": [
            "<class 'pandas.core.frame.DataFrame'>\n",
            "RangeIndex: 1787 entries, 0 to 1786\n",
            "Data columns (total 2 columns):\n",
            " #   Column        Non-Null Count  Dtype \n",
            "---  ------        --------------  ----- \n",
            " 0   Твитнуть      1787 non-null   object\n",
            " 1   Самоубийство  1787 non-null   object\n",
            "dtypes: object(2)\n",
            "memory usage: 28.0+ KB\n"
          ]
        },
        {
          "data": {
            "text/plain": [
              "None"
            ]
          },
          "metadata": {},
          "output_type": "display_data"
        }
      ],
      "source": [
        "data = pd.read_csv(dataset_path)\n",
        "display(data)\n",
        "display(data.info())"
      ]
    },
    {
      "cell_type": "markdown",
      "id": "9077d0f9",
      "metadata": {
        "id": "9077d0f9"
      },
      "source": [
        "В данном датасете информация о 1787 твитах (англоязычных пользователей, переведенных на русский язык), которые проходили оценку и распределялись по 2м категориям: «Не суицидный пост» и «Пост о потенциальном самоубийстве»\n",
        "Содержит 1787 строк, 2 столбца («Твитнуть» и «Самоубийство» ), оба столбца имеют тип object. Дата сет в столбце «Твитнуть» содержит лишние данные в качестве ссылок на твит. В том числе нечитаемые символы."
      ]
    },
    {
      "cell_type": "code",
      "execution_count": null,
      "id": "4d0a0693",
      "metadata": {
        "id": "4d0a0693",
        "outputId": "eb7135ba-0855-45f0-e2e1-c8287ddaf1cb"
      },
      "outputs": [
        {
          "data": {
            "text/plain": [
              "Твитнуть        0\n",
              "Самоубийство    0\n",
              "dtype: int64"
            ]
          },
          "execution_count": 10,
          "metadata": {},
          "output_type": "execute_result"
        }
      ],
      "source": [
        "data.eq(\"\").sum()"
      ]
    },
    {
      "cell_type": "markdown",
      "id": "9042b104",
      "metadata": {
        "id": "9042b104"
      },
      "source": [
        "Идентификация пропущенных значений (NaN, NULL, пустых строк и т. д.) в датафрейме. По результатам проверки пустых строк в датафрейме нет. Идентификация выбросов данных. Вводим дамми переменные для столбца «самоубийство» для удобства оценки. И переводим в двоичный код."
      ]
    },
    {
      "cell_type": "code",
      "execution_count": null,
      "id": "abd410da",
      "metadata": {
        "id": "abd410da",
        "outputId": "2e29d57c-5669-4d3b-d039-094e4c9dc7df"
      },
      "outputs": [
        {
          "data": {
            "text/html": [
              "<div>\n",
              "<style scoped>\n",
              "    .dataframe tbody tr th:only-of-type {\n",
              "        vertical-align: middle;\n",
              "    }\n",
              "\n",
              "    .dataframe tbody tr th {\n",
              "        vertical-align: top;\n",
              "    }\n",
              "\n",
              "    .dataframe thead th {\n",
              "        text-align: right;\n",
              "    }\n",
              "</style>\n",
              "<table border=\"1\" class=\"dataframe\">\n",
              "  <thead>\n",
              "    <tr style=\"text-align: right;\">\n",
              "      <th></th>\n",
              "      <th>Пост о потенциальном самоубийстве</th>\n",
              "    </tr>\n",
              "  </thead>\n",
              "  <tbody>\n",
              "    <tr>\n",
              "      <th>0</th>\n",
              "      <td>0</td>\n",
              "    </tr>\n",
              "    <tr>\n",
              "      <th>1</th>\n",
              "      <td>0</td>\n",
              "    </tr>\n",
              "    <tr>\n",
              "      <th>2</th>\n",
              "      <td>1</td>\n",
              "    </tr>\n",
              "    <tr>\n",
              "      <th>3</th>\n",
              "      <td>0</td>\n",
              "    </tr>\n",
              "    <tr>\n",
              "      <th>4</th>\n",
              "      <td>0</td>\n",
              "    </tr>\n",
              "    <tr>\n",
              "      <th>...</th>\n",
              "      <td>...</td>\n",
              "    </tr>\n",
              "    <tr>\n",
              "      <th>1782</th>\n",
              "      <td>0</td>\n",
              "    </tr>\n",
              "    <tr>\n",
              "      <th>1783</th>\n",
              "      <td>0</td>\n",
              "    </tr>\n",
              "    <tr>\n",
              "      <th>1784</th>\n",
              "      <td>0</td>\n",
              "    </tr>\n",
              "    <tr>\n",
              "      <th>1785</th>\n",
              "      <td>0</td>\n",
              "    </tr>\n",
              "    <tr>\n",
              "      <th>1786</th>\n",
              "      <td>0</td>\n",
              "    </tr>\n",
              "  </tbody>\n",
              "</table>\n",
              "<p>1787 rows × 1 columns</p>\n",
              "</div>"
            ],
            "text/plain": [
              "      Пост о потенциальном самоубийстве\n",
              "0                                     0\n",
              "1                                     0\n",
              "2                                     1\n",
              "3                                     0\n",
              "4                                     0\n",
              "...                                 ...\n",
              "1782                                  0\n",
              "1783                                  0\n",
              "1784                                  0\n",
              "1785                                  0\n",
              "1786                                  0\n",
              "\n",
              "[1787 rows x 1 columns]"
            ]
          },
          "metadata": {},
          "output_type": "display_data"
        }
      ],
      "source": [
        "# вводим дамми переменные для преобразования категориальных признаков в числовые для подсчета данных\n",
        "data['Самоубийство']= data['Самоубийство'].astype(str)\n",
        "data_dummies = pd.get_dummies(data['Самоубийство'], drop_first=True, dummy_na=False)\n",
        "display(data_dummies)"
      ]
    },
    {
      "cell_type": "code",
      "execution_count": null,
      "id": "11759547",
      "metadata": {
        "id": "11759547",
        "outputId": "a193d94d-3a86-46ec-d72e-4b3decd40479"
      },
      "outputs": [
        {
          "data": {
            "text/plain": [
              "0       0\n",
              "1       0\n",
              "2       1\n",
              "3       0\n",
              "4       0\n",
              "       ..\n",
              "1782    0\n",
              "1783    0\n",
              "1784    0\n",
              "1785    0\n",
              "1786    0\n",
              "Name: Пост о потенциальном самоубийстве, Length: 1787, dtype: int32"
            ]
          },
          "metadata": {},
          "output_type": "display_data"
        },
        {
          "data": {
            "text/html": [
              "<div>\n",
              "<style scoped>\n",
              "    .dataframe tbody tr th:only-of-type {\n",
              "        vertical-align: middle;\n",
              "    }\n",
              "\n",
              "    .dataframe tbody tr th {\n",
              "        vertical-align: top;\n",
              "    }\n",
              "\n",
              "    .dataframe thead th {\n",
              "        text-align: right;\n",
              "    }\n",
              "</style>\n",
              "<table border=\"1\" class=\"dataframe\">\n",
              "  <thead>\n",
              "    <tr style=\"text-align: right;\">\n",
              "      <th></th>\n",
              "      <th>Твитнуть</th>\n",
              "      <th>Самоубийство</th>\n",
              "    </tr>\n",
              "  </thead>\n",
              "  <tbody>\n",
              "    <tr>\n",
              "      <th>count</th>\n",
              "      <td>1787</td>\n",
              "      <td>1787</td>\n",
              "    </tr>\n",
              "    <tr>\n",
              "      <th>unique</th>\n",
              "      <td>1775</td>\n",
              "      <td>2</td>\n",
              "    </tr>\n",
              "    <tr>\n",
              "      <th>top</th>\n",
              "      <td>#VALUE!</td>\n",
              "      <td>Не суицидный пост</td>\n",
              "    </tr>\n",
              "    <tr>\n",
              "      <th>freq</th>\n",
              "      <td>2</td>\n",
              "      <td>1127</td>\n",
              "    </tr>\n",
              "  </tbody>\n",
              "</table>\n",
              "</div>"
            ],
            "text/plain": [
              "       Твитнуть       Самоубийство\n",
              "count      1787               1787\n",
              "unique     1775                  2\n",
              "top     #VALUE!  Не суицидный пост\n",
              "freq          2               1127"
            ]
          },
          "execution_count": 12,
          "metadata": {},
          "output_type": "execute_result"
        }
      ],
      "source": [
        "#Посчитаем сколько постов относятся к  «Пост о потенциальном самоубийстве»\n",
        "data_dummies = pd.get_dummies(data['Самоубийство'], drop_first=True, dummy_na=False)\n",
        "bool_counts = data_dummies.select_dtypes(include='bool').apply(lambda x: x.value_counts())\n",
        "# изменяем булевые переменные на двоичный код (1 и 0), для удобного подсчета в графике\n",
        "data_dummies['Пост о потенциальном самоубийстве'] = data_dummies['Пост о потенциальном самоубийстве'].astype(int)\n",
        "display(data_dummies['Пост о потенциальном самоубийстве'])\n",
        "#TODO: часть кода кажется можно убрать\n",
        "data.describe()"
      ]
    },
    {
      "cell_type": "markdown",
      "id": "a618ae43",
      "metadata": {
        "id": "a618ae43"
      },
      "source": [
        "Посчитаем сколько постов относятся к  «Пост о потенциальном самоубийстве», получаем что : «Не суицидный пост» - 1127  и «Пост о потенциальном самоубийстве» - 660"
      ]
    },
    {
      "cell_type": "code",
      "execution_count": null,
      "id": "18a11b29",
      "metadata": {
        "id": "18a11b29",
        "outputId": "5375e0da-6423-43d1-c04c-d57921f792e7"
      },
      "outputs": [
        {
          "data": {
            "text/html": [
              "<table border=\"1\" class=\"dataframe\">\n",
              "  <thead>\n",
              "    <tr style=\"text-align: right;\">\n",
              "      <th></th>\n",
              "      <th>Твитнуть</th>\n",
              "      <th>Самоубийство</th>\n",
              "    </tr>\n",
              "  </thead>\n",
              "  <tbody>\n",
              "    <tr>\n",
              "      <th>0</th>\n",
              "      <td>готовлю обед</td>\n",
              "      <td>Не суицидный пост</td>\n",
              "    </tr>\n",
              "    <tr>\n",
              "      <th>1</th>\n",
              "      <td>Тебе нужны его деньги.</td>\n",
              "      <td>Не суицидный пост</td>\n",
              "    </tr>\n",
              "    <tr>\n",
              "      <th>2</th>\n",
              "      <td>мне потребовалась целая вечность, чтобы собрать эту ерунду. я собираюсь пойти спать на несколько ДНЕЙ</td>\n",
              "      <td>Пост о потенциальном самоубийстве</td>\n",
              "    </tr>\n",
              "    <tr>\n",
              "      <th>3</th>\n",
              "      <td>Привет, Джер! С каких это пор ты начал твиттерить?</td>\n",
              "      <td>Не суицидный пост</td>\n",
              "    </tr>\n",
              "    <tr>\n",
              "      <th>4</th>\n",
              "      <td>Пробуем «Вкусную библиотеку 2»; с неоднозначными результатами. Штрихкод подумал, что я хочу добавить спортивный бюстгальтер вместо тренировки. Крутое приложение!</td>\n",
              "      <td>Не суицидный пост</td>\n",
              "    </tr>\n",
              "    <tr>\n",
              "      <th>5</th>\n",
              "      <td>О, приятно это слышать. Но неужели все уже закончилось? Или вы продолжите это после Страстной недели?</td>\n",
              "      <td>Не суицидный пост</td>\n",
              "    </tr>\n",
              "    <tr>\n",
              "      <th>6</th>\n",
              "      <td>у тебя есть список других ? Тебе придется поделиться этим, Амиго!</td>\n",
              "      <td>Не суицидный пост</td>\n",
              "    </tr>\n",
              "    <tr>\n",
              "      <th>7</th>\n",
              "      <td>То, что Шейн снял о тебе сериал, не означает, что люди воспринимают тебя всерьез, да…</td>\n",
              "      <td>Пост о потенциальном самоубийстве</td>\n",
              "    </tr>\n",
              "    <tr>\n",
              "      <th>8</th>\n",
              "      <td>Пришло время расслабиться в варшавском пивном саду</td>\n",
              "      <td>Не суицидный пост</td>\n",
              "    </tr>\n",
              "    <tr>\n",
              "      <th>9</th>\n",
              "      <td>Я ненавижу свою жизнь, я надеюсь, что скоро умру или умру, я слишком устал от всего</td>\n",
              "      <td>Пост о потенциальном самоубийстве</td>\n",
              "    </tr>\n",
              "  </tbody>\n",
              "</table>"
            ],
            "text/plain": [
              "<IPython.core.display.HTML object>"
            ]
          },
          "metadata": {},
          "output_type": "display_data"
        }
      ],
      "source": [
        "# используем IPython.display для красивого вывода всего текста в таблице\n",
        "from IPython.display import display, HTML\n",
        "data['Твитнуть'] = data['Твитнуть'].replace(r'http[s]?://\\S+|@\\w+|/|&\\w+|ð\\w+|¶+|RT|aâ¦|@|w\\w+|:|#\\w+|_|-|ð|ó|¦|§|®|¥|¢|´|¿|Ã¯ÂÂ½', '', regex=True)\n",
        "data['Твитнуть'] = data['Твитнуть'].str.replace(r'^\\,+', '', regex=True)\n",
        "data['Твитнуть'] = data['Твитнуть'].str.lstrip()\n",
        "display(HTML(data.head(10).to_html()))"
      ]
    },
    {
      "cell_type": "code",
      "execution_count": null,
      "id": "bbdb8553",
      "metadata": {
        "id": "bbdb8553",
        "outputId": "2fbc3122-ca87-4566-c526-24bfe893c371"
      },
      "outputs": [
        {
          "data": {
            "text/html": [
              "<div>\n",
              "<style scoped>\n",
              "    .dataframe tbody tr th:only-of-type {\n",
              "        vertical-align: middle;\n",
              "    }\n",
              "\n",
              "    .dataframe tbody tr th {\n",
              "        vertical-align: top;\n",
              "    }\n",
              "\n",
              "    .dataframe thead th {\n",
              "        text-align: right;\n",
              "    }\n",
              "</style>\n",
              "<table border=\"1\" class=\"dataframe\">\n",
              "  <thead>\n",
              "    <tr style=\"text-align: right;\">\n",
              "      <th></th>\n",
              "      <th>Пост о потенциальном самоубийстве</th>\n",
              "    </tr>\n",
              "  </thead>\n",
              "  <tbody>\n",
              "    <tr>\n",
              "      <th>0</th>\n",
              "      <td>0</td>\n",
              "    </tr>\n",
              "    <tr>\n",
              "      <th>1</th>\n",
              "      <td>0</td>\n",
              "    </tr>\n",
              "    <tr>\n",
              "      <th>2</th>\n",
              "      <td>1</td>\n",
              "    </tr>\n",
              "    <tr>\n",
              "      <th>3</th>\n",
              "      <td>0</td>\n",
              "    </tr>\n",
              "    <tr>\n",
              "      <th>4</th>\n",
              "      <td>0</td>\n",
              "    </tr>\n",
              "    <tr>\n",
              "      <th>...</th>\n",
              "      <td>...</td>\n",
              "    </tr>\n",
              "    <tr>\n",
              "      <th>1782</th>\n",
              "      <td>0</td>\n",
              "    </tr>\n",
              "    <tr>\n",
              "      <th>1783</th>\n",
              "      <td>0</td>\n",
              "    </tr>\n",
              "    <tr>\n",
              "      <th>1784</th>\n",
              "      <td>0</td>\n",
              "    </tr>\n",
              "    <tr>\n",
              "      <th>1785</th>\n",
              "      <td>0</td>\n",
              "    </tr>\n",
              "    <tr>\n",
              "      <th>1786</th>\n",
              "      <td>0</td>\n",
              "    </tr>\n",
              "  </tbody>\n",
              "</table>\n",
              "<p>1787 rows × 1 columns</p>\n",
              "</div>"
            ],
            "text/plain": [
              "      Пост о потенциальном самоубийстве\n",
              "0                                     0\n",
              "1                                     0\n",
              "2                                     1\n",
              "3                                     0\n",
              "4                                     0\n",
              "...                                 ...\n",
              "1782                                  0\n",
              "1783                                  0\n",
              "1784                                  0\n",
              "1785                                  0\n",
              "1786                                  0\n",
              "\n",
              "[1787 rows x 1 columns]"
            ]
          },
          "execution_count": 28,
          "metadata": {},
          "output_type": "execute_result"
        }
      ],
      "source": [
        "data['suid_bool'] = pd.get_dummies(data['Самоубийство'], drop_first=True, dummy_na=False)\n"
      ]
    },
    {
      "cell_type": "code",
      "execution_count": null,
      "id": "11000b18",
      "metadata": {
        "id": "11000b18",
        "outputId": "411eb898-527a-47bd-9d90-fb88896bc975"
      },
      "outputs": [
        {
          "data": {
            "text/html": [
              "<div>\n",
              "<style scoped>\n",
              "    .dataframe tbody tr th:only-of-type {\n",
              "        vertical-align: middle;\n",
              "    }\n",
              "\n",
              "    .dataframe tbody tr th {\n",
              "        vertical-align: top;\n",
              "    }\n",
              "\n",
              "    .dataframe thead th {\n",
              "        text-align: right;\n",
              "    }\n",
              "</style>\n",
              "<table border=\"1\" class=\"dataframe\">\n",
              "  <thead>\n",
              "    <tr style=\"text-align: right;\">\n",
              "      <th></th>\n",
              "      <th>Твитнуть</th>\n",
              "      <th>Самоубийство</th>\n",
              "      <th>suid_bool</th>\n",
              "    </tr>\n",
              "  </thead>\n",
              "  <tbody>\n",
              "    <tr>\n",
              "      <th>0</th>\n",
              "      <td>готовлю обед</td>\n",
              "      <td>Не суицидный пост</td>\n",
              "      <td>0</td>\n",
              "    </tr>\n",
              "    <tr>\n",
              "      <th>1</th>\n",
              "      <td>Тебе нужны его деньги.</td>\n",
              "      <td>Не суицидный пост</td>\n",
              "      <td>0</td>\n",
              "    </tr>\n",
              "    <tr>\n",
              "      <th>2</th>\n",
              "      <td>мне потребовалась целая вечность, чтобы собрат...</td>\n",
              "      <td>Пост о потенциальном самоубийстве</td>\n",
              "      <td>1</td>\n",
              "    </tr>\n",
              "    <tr>\n",
              "      <th>3</th>\n",
              "      <td>Привет, Джер! С каких это пор ты начал твиттер...</td>\n",
              "      <td>Не суицидный пост</td>\n",
              "      <td>0</td>\n",
              "    </tr>\n",
              "    <tr>\n",
              "      <th>4</th>\n",
              "      <td>Пробуем «Вкусную библиотеку 2»; с неоднозначны...</td>\n",
              "      <td>Не суицидный пост</td>\n",
              "      <td>0</td>\n",
              "    </tr>\n",
              "    <tr>\n",
              "      <th>...</th>\n",
              "      <td>...</td>\n",
              "      <td>...</td>\n",
              "      <td>...</td>\n",
              "    </tr>\n",
              "    <tr>\n",
              "      <th>1782</th>\n",
              "      <td>я забыл, как сильно я люблю свою Nokia N951</td>\n",
              "      <td>Не суицидный пост</td>\n",
              "      <td>0</td>\n",
              "    </tr>\n",
              "    <tr>\n",
              "      <th>1783</th>\n",
              "      <td>Начинаю свой день с позитива! Чтобы быть велик...</td>\n",
              "      <td>Не суицидный пост</td>\n",
              "      <td>0</td>\n",
              "    </tr>\n",
              "    <tr>\n",
              "      <th>1784</th>\n",
              "      <td>Эй, сейчас 5 утра... отдай должное девушке за ...</td>\n",
              "      <td>Не суицидный пост</td>\n",
              "      <td>0</td>\n",
              "    </tr>\n",
              "    <tr>\n",
              "      <th>1785</th>\n",
              "      <td>Две пьяные подруги вваливаются в мою комнату, ...</td>\n",
              "      <td>Не суицидный пост</td>\n",
              "      <td>0</td>\n",
              "    </tr>\n",
              "    <tr>\n",
              "      <th>1786</th>\n",
              "      <td>;Я чертовски люблю тебя!!!; Рон Бургунди верхо...</td>\n",
              "      <td>Не суицидный пост</td>\n",
              "      <td>0</td>\n",
              "    </tr>\n",
              "  </tbody>\n",
              "</table>\n",
              "<p>1787 rows × 3 columns</p>\n",
              "</div>"
            ],
            "text/plain": [
              "                                               Твитнуть  \\\n",
              "0                                          готовлю обед   \n",
              "1                                Тебе нужны его деньги.   \n",
              "2     мне потребовалась целая вечность, чтобы собрат...   \n",
              "3     Привет, Джер! С каких это пор ты начал твиттер...   \n",
              "4     Пробуем «Вкусную библиотеку 2»; с неоднозначны...   \n",
              "...                                                 ...   \n",
              "1782        я забыл, как сильно я люблю свою Nokia N951   \n",
              "1783  Начинаю свой день с позитива! Чтобы быть велик...   \n",
              "1784  Эй, сейчас 5 утра... отдай должное девушке за ...   \n",
              "1785  Две пьяные подруги вваливаются в мою комнату, ...   \n",
              "1786  ;Я чертовски люблю тебя!!!; Рон Бургунди верхо...   \n",
              "\n",
              "                           Самоубийство  suid_bool  \n",
              "0                     Не суицидный пост          0  \n",
              "1                     Не суицидный пост          0  \n",
              "2     Пост о потенциальном самоубийстве          1  \n",
              "3                     Не суицидный пост          0  \n",
              "4                     Не суицидный пост          0  \n",
              "...                                 ...        ...  \n",
              "1782                  Не суицидный пост          0  \n",
              "1783                  Не суицидный пост          0  \n",
              "1784                  Не суицидный пост          0  \n",
              "1785                  Не суицидный пост          0  \n",
              "1786                  Не суицидный пост          0  \n",
              "\n",
              "[1787 rows x 3 columns]"
            ]
          },
          "execution_count": 29,
          "metadata": {},
          "output_type": "execute_result"
        }
      ],
      "source": [
        "data"
      ]
    },
    {
      "cell_type": "code",
      "execution_count": null,
      "id": "3878eedf",
      "metadata": {
        "id": "3878eedf"
      },
      "outputs": [],
      "source": [
        "#Удалим некачественные строки\n",
        "data1 = data.drop(index=[497, 505, 536, 1002, 1017, 1047])"
      ]
    },
    {
      "cell_type": "code",
      "execution_count": null,
      "id": "b8467bd3",
      "metadata": {
        "id": "b8467bd3"
      },
      "outputs": [],
      "source": [
        "# сохраним новый вариант Датасета\n",
        "data1.to_csv(work_dataset_path, index=False, sep=';')"
      ]
    },
    {
      "cell_type": "markdown",
      "id": "0cc3d9cb",
      "metadata": {
        "id": "0cc3d9cb"
      },
      "source": [
        "**Модели машинного обучения**\n",
        "\n",
        "Здесь видим задачу классификации при работе с текстом.\n",
        "##TODO: написать, какие модели для задач классификации подходят, какие выбрали"
      ]
    },
    {
      "cell_type": "code",
      "execution_count": null,
      "id": "406b9705",
      "metadata": {
        "id": "406b9705"
      },
      "outputs": [],
      "source": []
    },
    {
      "cell_type": "code",
      "execution_count": null,
      "id": "a98d0387",
      "metadata": {
        "id": "a98d0387",
        "outputId": "220f288b-9ae0-4b71-c79a-14286d059590"
      },
      "outputs": [
        {
          "name": "stderr",
          "output_type": "stream",
          "text": [
            "[nltk_data] Downloading package punkt to\n",
            "[nltk_data]     C:\\Users\\днс\\AppData\\Roaming\\nltk_data...\n",
            "[nltk_data]   Package punkt is already up-to-date!\n"
          ]
        },
        {
          "data": {
            "text/plain": [
              "True"
            ]
          },
          "execution_count": 16,
          "metadata": {},
          "output_type": "execute_result"
        }
      ],
      "source": [
        "import numpy as np # linear algebra\n",
        "import pandas as pd # data processing, CSV file I/O (e.g. pd.read_csv)\n",
        "import os\n",
        "import nltk\n",
        "nltk.download('punkt')"
      ]
    },
    {
      "cell_type": "code",
      "execution_count": null,
      "id": "d3433843",
      "metadata": {
        "id": "d3433843"
      },
      "outputs": [],
      "source": [
        "# work_dataset_path = 'C:/Users/днс/Documents/jupyter/suicid97/ru_Suicide_new.csv'\n",
        "# for dirname, _, filenames in os.walk('C:/Users/днс/Documents/jupyter/suicid97/'):\n",
        "#     for filename in filenames:\n",
        "#         print(os.path.join(dirname, filename))"
      ]
    },
    {
      "cell_type": "code",
      "execution_count": null,
      "id": "85e1c0db",
      "metadata": {
        "id": "85e1c0db"
      },
      "outputs": [],
      "source": [
        "#TODO: перенести весь импорт наверх\n",
        "import numpy as np\n",
        "import pandas as pd\n",
        "import re\n",
        "import nltk\n",
        "#import demoji\n",
        "import string\n",
        "import seaborn as sns\n",
        "import matplotlib.pyplot as plt\n",
        "\n",
        "from sklearn.tree import DecisionTreeClassifier\n",
        "from sklearn.ensemble import RandomForestClassifier\n",
        "\n",
        "from nltk.corpus import stopwords\n",
        "from nltk.stem.porter import PorterStemmer\n",
        "from sklearn.feature_extraction.text import CountVectorizer\n",
        "from sklearn.preprocessing import LabelEncoder\n",
        "from nltk.tokenize import word_tokenize\n",
        "from sklearn.model_selection import train_test_split\n",
        "from sklearn.feature_extraction.text import TfidfVectorizer\n",
        "from xgboost import XGBClassifier\n",
        "from sklearn.metrics import (accuracy_score, recall_score, f1_score, confusion_matrix, ConfusionMatrixDisplay,\n",
        "                             classification_report, roc_curve, auc)\n",
        "from sklearn.metrics import confusion_matrix\n",
        "# Input data files are available in the read-only \"../input/\" directory\n",
        "# For example, running this (by clicking run or pressing Shift+Enter) will list all files under the input directory\n",
        "import numpy as np\n",
        "from sklearn.feature_extraction.text import TfidfVectorizer\n",
        "from sklearn.naive_bayes import MultinomialNB\n",
        "from sklearn.metrics import classification_report, confusion_matrix\n",
        "from sklearn.model_selection import train_test_split\n",
        "import io\n",
        "import json\n",
        "import matplotlib.pyplot as plt\n",
        "from sklearn.metrics import confusion_matrix\n",
        "import seaborn as sns\n",
        "import os\n",
        "for dirname, _, filenames in os.walk('/kaggle/input'):\n",
        "    for filename in filenames:\n",
        "        print(os.path.join(dirname, filename))\n",
        "\n",
        "# You can write up to 20GB to the current directory (/kaggle/working/) that gets preserved as output when you create a version using \"Save & Run All\"\n",
        "# You can also write temporary files to /kaggle/temp/, but they won't be saved outside of the current session"
      ]
    },
    {
      "cell_type": "code",
      "execution_count": null,
      "id": "e78f5984",
      "metadata": {
        "id": "e78f5984",
        "outputId": "0a927670-4f48-4687-e50b-f8555351b733"
      },
      "outputs": [
        {
          "name": "stderr",
          "output_type": "stream",
          "text": [
            "[nltk_data] Downloading package stopwords to\n",
            "[nltk_data]     C:\\Users\\днс\\AppData\\Roaming\\nltk_data...\n",
            "[nltk_data]   Package stopwords is already up-to-date!\n"
          ]
        },
        {
          "data": {
            "text/plain": [
              "True"
            ]
          },
          "execution_count": 2,
          "metadata": {},
          "output_type": "execute_result"
        }
      ],
      "source": [
        "#demoji.download_codes()\n",
        "#TODO: nltk не нужен\n",
        "nltk.download('stopwords')"
      ]
    },
    {
      "cell_type": "code",
      "execution_count": null,
      "id": "ff61b811",
      "metadata": {
        "id": "ff61b811"
      },
      "outputs": [],
      "source": [
        "df = pd.read_csv(work_dataset_path, sep=';')"
      ]
    },
    {
      "cell_type": "code",
      "execution_count": null,
      "id": "71164fcc",
      "metadata": {
        "id": "71164fcc",
        "outputId": "a19f5ca6-8f6f-4d92-e010-2012a5176151"
      },
      "outputs": [
        {
          "data": {
            "text/html": [
              "<div>\n",
              "<style scoped>\n",
              "    .dataframe tbody tr th:only-of-type {\n",
              "        vertical-align: middle;\n",
              "    }\n",
              "\n",
              "    .dataframe tbody tr th {\n",
              "        vertical-align: top;\n",
              "    }\n",
              "\n",
              "    .dataframe thead th {\n",
              "        text-align: right;\n",
              "    }\n",
              "</style>\n",
              "<table border=\"1\" class=\"dataframe\">\n",
              "  <thead>\n",
              "    <tr style=\"text-align: right;\">\n",
              "      <th></th>\n",
              "      <th>Твитнуть</th>\n",
              "      <th>Самоубийство</th>\n",
              "      <th>suid_bool</th>\n",
              "    </tr>\n",
              "  </thead>\n",
              "  <tbody>\n",
              "    <tr>\n",
              "      <th>0</th>\n",
              "      <td>готовлю обед</td>\n",
              "      <td>Не суицидный пост</td>\n",
              "      <td>0</td>\n",
              "    </tr>\n",
              "    <tr>\n",
              "      <th>1</th>\n",
              "      <td>Тебе нужны его деньги.</td>\n",
              "      <td>Не суицидный пост</td>\n",
              "      <td>0</td>\n",
              "    </tr>\n",
              "    <tr>\n",
              "      <th>2</th>\n",
              "      <td>мне потребовалась целая вечность, чтобы собрат...</td>\n",
              "      <td>Пост о потенциальном самоубийстве</td>\n",
              "      <td>1</td>\n",
              "    </tr>\n",
              "    <tr>\n",
              "      <th>3</th>\n",
              "      <td>Привет, Джер! С каких это пор ты начал твиттер...</td>\n",
              "      <td>Не суицидный пост</td>\n",
              "      <td>0</td>\n",
              "    </tr>\n",
              "    <tr>\n",
              "      <th>4</th>\n",
              "      <td>Пробуем «Вкусную библиотеку 2»; с неоднозначны...</td>\n",
              "      <td>Не суицидный пост</td>\n",
              "      <td>0</td>\n",
              "    </tr>\n",
              "  </tbody>\n",
              "</table>\n",
              "</div>"
            ],
            "text/plain": [
              "                                            Твитнуть  \\\n",
              "0                                       готовлю обед   \n",
              "1                             Тебе нужны его деньги.   \n",
              "2  мне потребовалась целая вечность, чтобы собрат...   \n",
              "3  Привет, Джер! С каких это пор ты начал твиттер...   \n",
              "4  Пробуем «Вкусную библиотеку 2»; с неоднозначны...   \n",
              "\n",
              "                        Самоубийство  suid_bool  \n",
              "0                  Не суицидный пост          0  \n",
              "1                  Не суицидный пост          0  \n",
              "2  Пост о потенциальном самоубийстве          1  \n",
              "3                  Не суицидный пост          0  \n",
              "4                  Не суицидный пост          0  "
            ]
          },
          "execution_count": 55,
          "metadata": {},
          "output_type": "execute_result"
        }
      ],
      "source": [
        "df.head()"
      ]
    },
    {
      "cell_type": "code",
      "execution_count": null,
      "id": "592d91a6",
      "metadata": {
        "id": "592d91a6"
      },
      "outputs": [],
      "source": []
    },
    {
      "cell_type": "code",
      "execution_count": null,
      "id": "5f222e46",
      "metadata": {
        "id": "5f222e46",
        "outputId": "66dfce65-e5ca-4f17-e103-abf1db862eae"
      },
      "outputs": [
        {
          "name": "stdout",
          "output_type": "stream",
          "text": [
            "<class 'pandas.core.frame.DataFrame'>\n",
            "RangeIndex: 1781 entries, 0 to 1780\n",
            "Data columns (total 3 columns):\n",
            " #   Column        Non-Null Count  Dtype \n",
            "---  ------        --------------  ----- \n",
            " 0   Твитнуть      1779 non-null   object\n",
            " 1   Самоубийство  1781 non-null   object\n",
            " 2   suid_bool     1781 non-null   int64 \n",
            "dtypes: int64(1), object(2)\n",
            "memory usage: 41.9+ KB\n"
          ]
        }
      ],
      "source": [
        "df.info()"
      ]
    },
    {
      "cell_type": "code",
      "execution_count": null,
      "id": "7b0a35cf",
      "metadata": {
        "id": "7b0a35cf",
        "outputId": "ea976896-371b-4a28-88a1-08cb3dbc6d78"
      },
      "outputs": [
        {
          "name": "stdout",
          "output_type": "stream",
          "text": [
            "<class 'pandas.core.frame.DataFrame'>\n",
            "Int64Index: 1779 entries, 0 to 1780\n",
            "Data columns (total 3 columns):\n",
            " #   Column        Non-Null Count  Dtype \n",
            "---  ------        --------------  ----- \n",
            " 0   Твитнуть      1779 non-null   object\n",
            " 1   Самоубийство  1779 non-null   object\n",
            " 2   suid_bool     1779 non-null   int64 \n",
            "dtypes: int64(1), object(2)\n",
            "memory usage: 55.6+ KB\n"
          ]
        }
      ],
      "source": [
        "# df.na.drop(how=\"any\").show(truncate=False)\n",
        "df = df.dropna()\n",
        "df.info()"
      ]
    },
    {
      "cell_type": "code",
      "execution_count": null,
      "id": "e81b13b5",
      "metadata": {
        "id": "e81b13b5"
      },
      "outputs": [],
      "source": [
        "X = df['Твитнуть']\n",
        "y = df['suid_bool']"
      ]
    },
    {
      "cell_type": "code",
      "execution_count": null,
      "id": "6636a0e7",
      "metadata": {
        "id": "6636a0e7"
      },
      "outputs": [],
      "source": [
        "vectorizer = TfidfVectorizer(max_features = 5000) #Limiting to 5000 most frequent words for simplicity\n",
        "X = vectorizer.fit_transform(X)\n",
        "X_train, X_test, y_train, y_test = train_test_split(X, y, test_size=0.2)"
      ]
    },
    {
      "cell_type": "code",
      "execution_count": null,
      "id": "bebf4ee0",
      "metadata": {
        "id": "bebf4ee0",
        "outputId": "fe0b6054-6e98-486f-df23-eb3f61b3a523"
      },
      "outputs": [
        {
          "name": "stdout",
          "output_type": "stream",
          "text": [
            "              precision    recall  f1-score   support\n",
            "\n",
            "           0       0.88      0.94      0.91       229\n",
            "           1       0.88      0.77      0.82       127\n",
            "\n",
            "    accuracy                           0.88       356\n",
            "   macro avg       0.88      0.86      0.86       356\n",
            "weighted avg       0.88      0.88      0.88       356\n",
            "\n"
          ]
        }
      ],
      "source": [
        "clf = MultinomialNB()\n",
        "clf.fit(X_train, y_train)\n",
        "\n",
        "y_pred = clf.predict(X_test)\n",
        "\n",
        "print(classification_report(y_test, y_pred))"
      ]
    },
    {
      "cell_type": "markdown",
      "id": "22cb7791",
      "metadata": {
        "id": "22cb7791"
      },
      "source": [
        "Здесь precision - сколько предсказаний действительно относится к данному классу /  TP / (TP+FP)\n",
        "Recall показывает, сколько предсказаний определённого класса верно. /  TP / (TP+FN)\n",
        "F1-score — это геометрическое среднее точности и полноты. / 2 (Precision recall) / (Precision + recall)\n",
        "#TODO: добавить пояснение по метрикам.\n",
        "\n",
        "Support — фактическое количество примеров данного класса."
      ]
    },
    {
      "cell_type": "code",
      "execution_count": null,
      "id": "70d6b79d",
      "metadata": {
        "id": "70d6b79d",
        "outputId": "313a04ba-79f3-479b-9746-5443da287f44"
      },
      "outputs": [
        {
          "data": {
            "image/png": "[encoded data removed]",
            "text/plain": [
              "<Figure size 432x288 with 2 Axes>"
            ]
          },
          "metadata": {
            "needs_background": "light"
          },
          "output_type": "display_data"
        }
      ],
      "source": [
        "cm = confusion_matrix(y_test, y_pred)\n",
        "sns.heatmap(cm, annot=True, fmt='g', cmap='Blues')\n",
        "plt.xlabel('Predicted labels')\n",
        "plt.ylabel('True labels')\n",
        "plt.title('Confusion Matrix')\n",
        "plt.show()"
      ]
    },
    {
      "cell_type": "code",
      "execution_count": null,
      "id": "42dfb6bd",
      "metadata": {
        "id": "42dfb6bd",
        "outputId": "f40515c0-9689-43c5-da69-403dee859783"
      },
      "outputs": [
        {
          "data": {
            "image/png": "[encoded data removed]",
            "text/plain": [
              "<Figure size 432x288 with 1 Axes>"
            ]
          },
          "metadata": {
            "needs_background": "light"
          },
          "output_type": "display_data"
        }
      ],
      "source": [
        "from sklearn.metrics import precision_recall_curve\n",
        "\n",
        "precision, recall, _ = precision_recall_curve(y_test, clf.predict_proba(X_test)[:,1])\n",
        "\n",
        "plt.figure()\n",
        "plt.plot(recall, precision, color='darkorange', lw=2)\n",
        "plt.xlabel('Recall')\n",
        "plt.ylabel('Precision')\n",
        "plt.title('Precision-Recall Curve')\n",
        "plt.show()"
      ]
    },
    {
      "cell_type": "code",
      "execution_count": null,
      "id": "7ba75b82",
      "metadata": {
        "id": "7ba75b82"
      },
      "outputs": [],
      "source": [
        "#TODO: добавить пояснение по вышесделанному\n"
      ]
    },
    {
      "cell_type": "markdown",
      "id": "c9934978",
      "metadata": {
        "id": "c9934978"
      },
      "source": [
        "Теперь попробуем то же самое с моделью RandomForestClassifier"
      ]
    },
    {
      "cell_type": "code",
      "execution_count": null,
      "id": "5efae903",
      "metadata": {
        "id": "5efae903",
        "outputId": "b4cc320c-0afa-425f-e8c6-13bd4491855f"
      },
      "outputs": [
        {
          "name": "stdout",
          "output_type": "stream",
          "text": [
            "              precision    recall  f1-score   support\n",
            "\n",
            "           0       0.88      0.94      0.91       229\n",
            "           1       0.88      0.77      0.82       127\n",
            "\n",
            "    accuracy                           0.88       356\n",
            "   macro avg       0.88      0.86      0.86       356\n",
            "weighted avg       0.88      0.88      0.88       356\n",
            "\n"
          ]
        }
      ],
      "source": [
        "rf_n_model = RandomForestClassifier(n_estimators=30, random_state=22)\n",
        "#TODO: подобрать оптимальные параметры моделей\n",
        "rf_n_model.fit(X_train, y_train)\n",
        "\n",
        "y_pred = clf.predict(X_test)\n",
        "\n",
        "print(classification_report(y_test, y_pred))"
      ]
    },
    {
      "cell_type": "code",
      "execution_count": null,
      "id": "c499549b",
      "metadata": {
        "id": "c499549b",
        "outputId": "4acb5961-992b-4f66-c7ce-6e2b6ac8bd3f"
      },
      "outputs": [
        {
          "data": {
            "image/png": "[encoded data removed]",
            "text/plain": [
              "<Figure size 432x288 with 2 Axes>"
            ]
          },
          "metadata": {
            "needs_background": "light"
          },
          "output_type": "display_data"
        }
      ],
      "source": [
        "cm = confusion_matrix(y_test, y_pred)\n",
        "sns.heatmap(cm, annot=True, fmt='g', cmap='Blues')\n",
        "plt.xlabel('Predicted labels')\n",
        "plt.ylabel('True labels')\n",
        "plt.title('Confusion Matrix')\n",
        "plt.show()"
      ]
    },
    {
      "cell_type": "code",
      "execution_count": null,
      "id": "7f2f1ecc",
      "metadata": {
        "id": "7f2f1ecc",
        "outputId": "4415e8f3-8e8b-4d32-891f-b3446cf8c4cd"
      },
      "outputs": [
        {
          "data": {
            "image/png": "[encoded data removed]",
            "text/plain": [
              "<Figure size 432x288 with 1 Axes>"
            ]
          },
          "metadata": {
            "needs_background": "light"
          },
          "output_type": "display_data"
        }
      ],
      "source": [
        "from sklearn.metrics import precision_recall_curve\n",
        "\n",
        "precision, recall, _ = precision_recall_curve(y_test, rf_n_model.predict_proba(X_test)[:,1])\n",
        "\n",
        "plt.figure()\n",
        "plt.plot(recall, precision, color='darkorange', lw=2)\n",
        "plt.xlabel('Recall')\n",
        "plt.ylabel('Precision')\n",
        "plt.title('Precision-Recall Curve')\n",
        "plt.show()"
      ]
    },
    {
      "cell_type": "markdown",
      "id": "cf5c4165",
      "metadata": {
        "id": "cf5c4165"
      },
      "source": [
        "И попробуем третью модель"
      ]
    },
    {
      "cell_type": "code",
      "execution_count": null,
      "id": "e8ad7a5a",
      "metadata": {
        "id": "e8ad7a5a",
        "outputId": "b54fa9fa-713b-4656-c77e-0a08b62bff10"
      },
      "outputs": [
        {
          "name": "stdout",
          "output_type": "stream",
          "text": [
            "              precision    recall  f1-score   support\n",
            "\n",
            "           0       0.88      0.94      0.91       229\n",
            "           1       0.88      0.77      0.82       127\n",
            "\n",
            "    accuracy                           0.88       356\n",
            "   macro avg       0.88      0.86      0.86       356\n",
            "weighted avg       0.88      0.88      0.88       356\n",
            "\n"
          ]
        }
      ],
      "source": [
        "bg=BaggingClassifier()\n",
        "bg.fit(X_train, y_train)\n",
        "\n",
        "y_pred = clf.predict(X_test)\n",
        "\n",
        "print(classification_report(y_test, y_pred))"
      ]
    },
    {
      "cell_type": "code",
      "execution_count": null,
      "id": "b118a854",
      "metadata": {
        "id": "b118a854",
        "outputId": "ab5d403e-3ee9-4208-86d5-291d321c889a"
      },
      "outputs": [
        {
          "data": {
            "image/png": "[encoded data removed]",
            "text/plain": [
              "<Figure size 432x288 with 2 Axes>"
            ]
          },
          "metadata": {
            "needs_background": "light"
          },
          "output_type": "display_data"
        }
      ],
      "source": [
        "cm = confusion_matrix(y_test, y_pred)\n",
        "sns.heatmap(cm, annot=True, fmt='g', cmap='Blues')\n",
        "plt.xlabel('Predicted labels')\n",
        "plt.ylabel('True labels')\n",
        "plt.title('Confusion Matrix')\n",
        "plt.show()"
      ]
    },
    {
      "cell_type": "code",
      "execution_count": null,
      "id": "4561f628",
      "metadata": {
        "id": "4561f628",
        "outputId": "d5a7f925-eae6-44c3-adc7-e24bd2074e1a"
      },
      "outputs": [
        {
          "data": {
            "image/png": "[encoded data removed]",
            "text/plain": [
              "<Figure size 432x288 with 1 Axes>"
            ]
          },
          "metadata": {
            "needs_background": "light"
          },
          "output_type": "display_data"
        }
      ],
      "source": [
        "from sklearn.metrics import precision_recall_curve\n",
        "\n",
        "precision, recall, _ = precision_recall_curve(y_test, rf_n_model.predict_proba(X_test)[:,1])\n",
        "\n",
        "plt.figure()\n",
        "plt.plot(recall, precision, color='darkorange', lw=2)\n",
        "plt.xlabel('Recall')\n",
        "plt.ylabel('Precision')\n",
        "plt.title('Precision-Recall Curve')\n",
        "plt.show()"
      ]
    },
    {
      "cell_type": "markdown",
      "id": "55d0fa61",
      "metadata": {
        "id": "55d0fa61"
      },
      "source": [
        "#TODO: Итого, сравнив 3 модели получаем:"
      ]
    },
    {
      "cell_type": "markdown",
      "id": "c2eeb900",
      "metadata": {
        "id": "c2eeb900"
      },
      "source": [
        "Теперь посмотреть результаты наших уже обученных моделей на втором датасете, русскоязычном"
      ]
    },
    {
      "cell_type": "code",
      "execution_count": null,
      "id": "43aa741c",
      "metadata": {
        "id": "43aa741c"
      },
      "outputs": [],
      "source": [
        "#TODO: mсюда вставить разбор и обработку второго датасета"
      ]
    },
    {
      "cell_type": "code",
      "execution_count": null,
      "id": "038e12cb",
      "metadata": {
        "id": "038e12cb"
      },
      "outputs": [],
      "source": [
        "val_dataset_path = 'C:/Users/днс/Documents/jupyter/suicid97/ru_suicide2_from_json.csv'\n",
        "df = pd.read_csv(val_dataset_path, sep=';')\n"
      ]
    },
    {
      "cell_type": "code",
      "execution_count": null,
      "id": "3490b5a5",
      "metadata": {
        "id": "3490b5a5",
        "outputId": "68b1ff46-f4c3-4705-cd96-6795f6d5bb81"
      },
      "outputs": [
        {
          "data": {
            "text/html": [
              "<div>\n",
              "<style scoped>\n",
              "    .dataframe tbody tr th:only-of-type {\n",
              "        vertical-align: middle;\n",
              "    }\n",
              "\n",
              "    .dataframe tbody tr th {\n",
              "        vertical-align: top;\n",
              "    }\n",
              "\n",
              "    .dataframe thead th {\n",
              "        text-align: right;\n",
              "    }\n",
              "</style>\n",
              "<table border=\"1\" class=\"dataframe\">\n",
              "  <thead>\n",
              "    <tr style=\"text-align: right;\">\n",
              "      <th></th>\n",
              "      <th>post</th>\n",
              "      <th>category</th>\n",
              "    </tr>\n",
              "  </thead>\n",
              "  <tbody>\n",
              "    <tr>\n",
              "      <th>0</th>\n",
              "      <td>бывшая жена угрожает самоубийством недавно я н...</td>\n",
              "      <td>1</td>\n",
              "    </tr>\n",
              "    <tr>\n",
              "      <th>1</th>\n",
              "      <td>я странный? на меня не влияют комплименты, есл...</td>\n",
              "      <td>0</td>\n",
              "    </tr>\n",
              "    <tr>\n",
              "      <th>2</th>\n",
              "      <td>наконецто 2020 год почти закончился... так что...</td>\n",
              "      <td>0</td>\n",
              "    </tr>\n",
              "    <tr>\n",
              "      <th>3</th>\n",
              "      <td>мне нужна помощь, просто помоги мне, я так плачу</td>\n",
              "      <td>1</td>\n",
              "    </tr>\n",
              "    <tr>\n",
              "      <th>4</th>\n",
              "      <td>я так растеряна. здравствуйте, меня зовут адам...</td>\n",
              "      <td>1</td>\n",
              "    </tr>\n",
              "  </tbody>\n",
              "</table>\n",
              "</div>"
            ],
            "text/plain": [
              "                                                post  category\n",
              "0  бывшая жена угрожает самоубийством недавно я н...         1\n",
              "1  я странный? на меня не влияют комплименты, есл...         0\n",
              "2  наконецто 2020 год почти закончился... так что...         0\n",
              "3   мне нужна помощь, просто помоги мне, я так плачу         1\n",
              "4  я так растеряна. здравствуйте, меня зовут адам...         1"
            ]
          },
          "execution_count": 85,
          "metadata": {},
          "output_type": "execute_result"
        }
      ],
      "source": [
        "df.head()"
      ]
    },
    {
      "cell_type": "code",
      "execution_count": null,
      "id": "bb5e484e",
      "metadata": {
        "id": "bb5e484e"
      },
      "outputs": [],
      "source": [
        "vectorizer = TfidfVectorizer(max_features = 5000) #Limiting to 5000 most frequent words for simplicity\n",
        "x = df['post']\n",
        "X = vectorizer.fit_transform(x)\n",
        "y_val = df['category']"
      ]
    },
    {
      "cell_type": "code",
      "execution_count": null,
      "id": "790e7cca",
      "metadata": {
        "id": "790e7cca",
        "outputId": "cd033b1f-fb47-4c6b-ee2b-10c396823aff"
      },
      "outputs": [
        {
          "name": "stdout",
          "output_type": "stream",
          "text": [
            "              precision    recall  f1-score   support\n",
            "\n",
            "           0       0.53      0.86      0.65     24078\n",
            "           1       0.60      0.22      0.32     23915\n",
            "\n",
            "    accuracy                           0.54     47993\n",
            "   macro avg       0.56      0.54      0.49     47993\n",
            "weighted avg       0.56      0.54      0.49     47993\n",
            "\n"
          ]
        }
      ],
      "source": [
        "y_pred = clf.predict(X)\n",
        "\n",
        "print(classification_report(y_val, y_pred))"
      ]
    },
    {
      "cell_type": "code",
      "execution_count": null,
      "id": "f4bc4c3e",
      "metadata": {
        "id": "f4bc4c3e"
      },
      "outputs": [],
      "source": [
        "#TODO: добавить слияние двух датасетов перед векторизацией текста."
      ]
    },
    {
      "cell_type": "code",
      "execution_count": null,
      "id": "36e3fa7c",
      "metadata": {
        "id": "36e3fa7c"
      },
      "outputs": [],
      "source": []
    }
  ],
  "metadata": {
    "kernelspec": {
      "display_name": "Python 3",
      "language": "python",
      "name": "python3"
    },
    "language_info": {
      "codemirror_mode": {
        "name": "ipython",
        "version": 3
      },
      "file_extension": ".py",
      "mimetype": "text/x-python",
      "name": "python",
      "nbconvert_exporter": "python",
      "pygments_lexer": "ipython3",
      "version": "3.8.8"
    },
    "colab": {
      "provenance": [],
      "include_colab_link": true
    }
  },
  "nbformat": 4,
  "nbformat_minor": 5
}