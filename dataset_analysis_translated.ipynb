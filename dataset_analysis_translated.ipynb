{
  "cells": [
    {
      "cell_type": "markdown",
      "metadata": {
        "id": "view-in-github",
        "colab_type": "text"
      },
      "source": [
        "<a href=\"https://colab.research.google.com/github/NatalieGo/MFTI_hackathon_1/blob/main/dataset_analysis_translated.ipynb\" target=\"_parent\"><img src=\"https://colab.research.google.com/assets/colab-badge.svg\" alt=\"Open In Colab\"/></a>"
      ]
    },
    {
      "cell_type": "code",
      "execution_count": 1,
      "metadata": {
        "colab": {
          "base_uri": "https://localhost:8080/",
          "height": 597
        },
        "id": "US6k-CeQQWT_",
        "outputId": "3c7d2a69-bf5e-49c8-ff04-89fecac70361"
      },
      "outputs": [
        {
          "output_type": "display_data",
          "data": {
            "text/plain": [
              "                                               Твитнуть  \\\n",
              "0                                          готовлю обед   \n",
              "1                        @Alexia Тебе нужны его деньги.   \n",
              "2     @dizzyhrvy мне потребовалась целая вечность, ч...   \n",
              "3     @jnaylor #kiwitweets Привет, Джер! С каких это...   \n",
              "4     Пробуем «Вкусную библиотеку 2»; с неоднозначны...   \n",
              "...                                                 ...   \n",
              "1782       я забыл, как сильно я люблю свою Nokia N95-1   \n",
              "1783  Начинаю свой день с позитива! Чтобы быть велик...   \n",
              "1784  @belledame222 Эй, сейчас 5 утра... отдай должн...   \n",
              "1785  Две пьяные подруги вваливаются в мою комнату, ...   \n",
              "1786  @dancingbonita &quot;Я чертовски люблю тебя!!!...   \n",
              "\n",
              "                           Самоубийство  \n",
              "0                     Не суицидный пост  \n",
              "1                     Не суицидный пост  \n",
              "2     Пост о потенциальном самоубийстве  \n",
              "3                     Не суицидный пост  \n",
              "4                     Не суицидный пост  \n",
              "...                                 ...  \n",
              "1782                  Не суицидный пост  \n",
              "1783                  Не суицидный пост  \n",
              "1784                  Не суицидный пост  \n",
              "1785                  Не суицидный пост  \n",
              "1786                  Не суицидный пост  \n",
              "\n",
              "[1787 rows x 2 columns]"
            ],
            "text/html": [
              "\n",
              "  <div id=\"df-02b49eb7-21c4-42ff-b8a6-3a447fd97108\" class=\"colab-df-container\">\n",
              "    <div>\n",
              "<style scoped>\n",
              "    .dataframe tbody tr th:only-of-type {\n",
              "        vertical-align: middle;\n",
              "    }\n",
              "\n",
              "    .dataframe tbody tr th {\n",
              "        vertical-align: top;\n",
              "    }\n",
              "\n",
              "    .dataframe thead th {\n",
              "        text-align: right;\n",
              "    }\n",
              "</style>\n",
              "<table border=\"1\" class=\"dataframe\">\n",
              "  <thead>\n",
              "    <tr style=\"text-align: right;\">\n",
              "      <th></th>\n",
              "      <th>Твитнуть</th>\n",
              "      <th>Самоубийство</th>\n",
              "    </tr>\n",
              "  </thead>\n",
              "  <tbody>\n",
              "    <tr>\n",
              "      <th>0</th>\n",
              "      <td>готовлю обед</td>\n",
              "      <td>Не суицидный пост</td>\n",
              "    </tr>\n",
              "    <tr>\n",
              "      <th>1</th>\n",
              "      <td>@Alexia Тебе нужны его деньги.</td>\n",
              "      <td>Не суицидный пост</td>\n",
              "    </tr>\n",
              "    <tr>\n",
              "      <th>2</th>\n",
              "      <td>@dizzyhrvy мне потребовалась целая вечность, ч...</td>\n",
              "      <td>Пост о потенциальном самоубийстве</td>\n",
              "    </tr>\n",
              "    <tr>\n",
              "      <th>3</th>\n",
              "      <td>@jnaylor #kiwitweets Привет, Джер! С каких это...</td>\n",
              "      <td>Не суицидный пост</td>\n",
              "    </tr>\n",
              "    <tr>\n",
              "      <th>4</th>\n",
              "      <td>Пробуем «Вкусную библиотеку 2»; с неоднозначны...</td>\n",
              "      <td>Не суицидный пост</td>\n",
              "    </tr>\n",
              "    <tr>\n",
              "      <th>...</th>\n",
              "      <td>...</td>\n",
              "      <td>...</td>\n",
              "    </tr>\n",
              "    <tr>\n",
              "      <th>1782</th>\n",
              "      <td>я забыл, как сильно я люблю свою Nokia N95-1</td>\n",
              "      <td>Не суицидный пост</td>\n",
              "    </tr>\n",
              "    <tr>\n",
              "      <th>1783</th>\n",
              "      <td>Начинаю свой день с позитива! Чтобы быть велик...</td>\n",
              "      <td>Не суицидный пост</td>\n",
              "    </tr>\n",
              "    <tr>\n",
              "      <th>1784</th>\n",
              "      <td>@belledame222 Эй, сейчас 5 утра... отдай должн...</td>\n",
              "      <td>Не суицидный пост</td>\n",
              "    </tr>\n",
              "    <tr>\n",
              "      <th>1785</th>\n",
              "      <td>Две пьяные подруги вваливаются в мою комнату, ...</td>\n",
              "      <td>Не суицидный пост</td>\n",
              "    </tr>\n",
              "    <tr>\n",
              "      <th>1786</th>\n",
              "      <td>@dancingbonita &amp;quot;Я чертовски люблю тебя!!!...</td>\n",
              "      <td>Не суицидный пост</td>\n",
              "    </tr>\n",
              "  </tbody>\n",
              "</table>\n",
              "<p>1787 rows × 2 columns</p>\n",
              "</div>\n",
              "    <div class=\"colab-df-buttons\">\n",
              "\n",
              "  <div class=\"colab-df-container\">\n",
              "    <button class=\"colab-df-convert\" onclick=\"convertToInteractive('df-02b49eb7-21c4-42ff-b8a6-3a447fd97108')\"\n",
              "            title=\"Convert this dataframe to an interactive table.\"\n",
              "            style=\"display:none;\">\n",
              "\n",
              "  <svg xmlns=\"http://www.w3.org/2000/svg\" height=\"24px\" viewBox=\"0 -960 960 960\">\n",
              "    <path d=\"M120-120v-720h720v720H120Zm60-500h600v-160H180v160Zm220 220h160v-160H400v160Zm0 220h160v-160H400v160ZM180-400h160v-160H180v160Zm440 0h160v-160H620v160ZM180-180h160v-160H180v160Zm440 0h160v-160H620v160Z\"/>\n",
              "  </svg>\n",
              "    </button>\n",
              "\n",
              "  <style>\n",
              "    .colab-df-container {\n",
              "      display:flex;\n",
              "      gap: 12px;\n",
              "    }\n",
              "\n",
              "    .colab-df-convert {\n",
              "      background-color: #E8F0FE;\n",
              "      border: none;\n",
              "      border-radius: 50%;\n",
              "      cursor: pointer;\n",
              "      display: none;\n",
              "      fill: #1967D2;\n",
              "      height: 32px;\n",
              "      padding: 0 0 0 0;\n",
              "      width: 32px;\n",
              "    }\n",
              "\n",
              "    .colab-df-convert:hover {\n",
              "      background-color: #E2EBFA;\n",
              "      box-shadow: 0px 1px 2px rgba(60, 64, 67, 0.3), 0px 1px 3px 1px rgba(60, 64, 67, 0.15);\n",
              "      fill: #174EA6;\n",
              "    }\n",
              "\n",
              "    .colab-df-buttons div {\n",
              "      margin-bottom: 4px;\n",
              "    }\n",
              "\n",
              "    [theme=dark] .colab-df-convert {\n",
              "      background-color: #3B4455;\n",
              "      fill: #D2E3FC;\n",
              "    }\n",
              "\n",
              "    [theme=dark] .colab-df-convert:hover {\n",
              "      background-color: #434B5C;\n",
              "      box-shadow: 0px 1px 3px 1px rgba(0, 0, 0, 0.15);\n",
              "      filter: drop-shadow(0px 1px 2px rgba(0, 0, 0, 0.3));\n",
              "      fill: #FFFFFF;\n",
              "    }\n",
              "  </style>\n",
              "\n",
              "    <script>\n",
              "      const buttonEl =\n",
              "        document.querySelector('#df-02b49eb7-21c4-42ff-b8a6-3a447fd97108 button.colab-df-convert');\n",
              "      buttonEl.style.display =\n",
              "        google.colab.kernel.accessAllowed ? 'block' : 'none';\n",
              "\n",
              "      async function convertToInteractive(key) {\n",
              "        const element = document.querySelector('#df-02b49eb7-21c4-42ff-b8a6-3a447fd97108');\n",
              "        const dataTable =\n",
              "          await google.colab.kernel.invokeFunction('convertToInteractive',\n",
              "                                                    [key], {});\n",
              "        if (!dataTable) return;\n",
              "\n",
              "        const docLinkHtml = 'Like what you see? Visit the ' +\n",
              "          '<a target=\"_blank\" href=https://colab.research.google.com/notebooks/data_table.ipynb>data table notebook</a>'\n",
              "          + ' to learn more about interactive tables.';\n",
              "        element.innerHTML = '';\n",
              "        dataTable['output_type'] = 'display_data';\n",
              "        await google.colab.output.renderOutput(dataTable, element);\n",
              "        const docLink = document.createElement('div');\n",
              "        docLink.innerHTML = docLinkHtml;\n",
              "        element.appendChild(docLink);\n",
              "      }\n",
              "    </script>\n",
              "  </div>\n",
              "\n",
              "\n",
              "<div id=\"df-a7bcbb71-bf92-42d1-bd08-f37d81903c4d\">\n",
              "  <button class=\"colab-df-quickchart\" onclick=\"quickchart('df-a7bcbb71-bf92-42d1-bd08-f37d81903c4d')\"\n",
              "            title=\"Suggest charts\"\n",
              "            style=\"display:none;\">\n",
              "\n",
              "<svg xmlns=\"http://www.w3.org/2000/svg\" height=\"24px\"viewBox=\"0 0 24 24\"\n",
              "     width=\"24px\">\n",
              "    <g>\n",
              "        <path d=\"M19 3H5c-1.1 0-2 .9-2 2v14c0 1.1.9 2 2 2h14c1.1 0 2-.9 2-2V5c0-1.1-.9-2-2-2zM9 17H7v-7h2v7zm4 0h-2V7h2v10zm4 0h-2v-4h2v4z\"/>\n",
              "    </g>\n",
              "</svg>\n",
              "  </button>\n",
              "\n",
              "<style>\n",
              "  .colab-df-quickchart {\n",
              "      --bg-color: #E8F0FE;\n",
              "      --fill-color: #1967D2;\n",
              "      --hover-bg-color: #E2EBFA;\n",
              "      --hover-fill-color: #174EA6;\n",
              "      --disabled-fill-color: #AAA;\n",
              "      --disabled-bg-color: #DDD;\n",
              "  }\n",
              "\n",
              "  [theme=dark] .colab-df-quickchart {\n",
              "      --bg-color: #3B4455;\n",
              "      --fill-color: #D2E3FC;\n",
              "      --hover-bg-color: #434B5C;\n",
              "      --hover-fill-color: #FFFFFF;\n",
              "      --disabled-bg-color: #3B4455;\n",
              "      --disabled-fill-color: #666;\n",
              "  }\n",
              "\n",
              "  .colab-df-quickchart {\n",
              "    background-color: var(--bg-color);\n",
              "    border: none;\n",
              "    border-radius: 50%;\n",
              "    cursor: pointer;\n",
              "    display: none;\n",
              "    fill: var(--fill-color);\n",
              "    height: 32px;\n",
              "    padding: 0;\n",
              "    width: 32px;\n",
              "  }\n",
              "\n",
              "  .colab-df-quickchart:hover {\n",
              "    background-color: var(--hover-bg-color);\n",
              "    box-shadow: 0 1px 2px rgba(60, 64, 67, 0.3), 0 1px 3px 1px rgba(60, 64, 67, 0.15);\n",
              "    fill: var(--button-hover-fill-color);\n",
              "  }\n",
              "\n",
              "  .colab-df-quickchart-complete:disabled,\n",
              "  .colab-df-quickchart-complete:disabled:hover {\n",
              "    background-color: var(--disabled-bg-color);\n",
              "    fill: var(--disabled-fill-color);\n",
              "    box-shadow: none;\n",
              "  }\n",
              "\n",
              "  .colab-df-spinner {\n",
              "    border: 2px solid var(--fill-color);\n",
              "    border-color: transparent;\n",
              "    border-bottom-color: var(--fill-color);\n",
              "    animation:\n",
              "      spin 1s steps(1) infinite;\n",
              "  }\n",
              "\n",
              "  @keyframes spin {\n",
              "    0% {\n",
              "      border-color: transparent;\n",
              "      border-bottom-color: var(--fill-color);\n",
              "      border-left-color: var(--fill-color);\n",
              "    }\n",
              "    20% {\n",
              "      border-color: transparent;\n",
              "      border-left-color: var(--fill-color);\n",
              "      border-top-color: var(--fill-color);\n",
              "    }\n",
              "    30% {\n",
              "      border-color: transparent;\n",
              "      border-left-color: var(--fill-color);\n",
              "      border-top-color: var(--fill-color);\n",
              "      border-right-color: var(--fill-color);\n",
              "    }\n",
              "    40% {\n",
              "      border-color: transparent;\n",
              "      border-right-color: var(--fill-color);\n",
              "      border-top-color: var(--fill-color);\n",
              "    }\n",
              "    60% {\n",
              "      border-color: transparent;\n",
              "      border-right-color: var(--fill-color);\n",
              "    }\n",
              "    80% {\n",
              "      border-color: transparent;\n",
              "      border-right-color: var(--fill-color);\n",
              "      border-bottom-color: var(--fill-color);\n",
              "    }\n",
              "    90% {\n",
              "      border-color: transparent;\n",
              "      border-bottom-color: var(--fill-color);\n",
              "    }\n",
              "  }\n",
              "</style>\n",
              "\n",
              "  <script>\n",
              "    async function quickchart(key) {\n",
              "      const quickchartButtonEl =\n",
              "        document.querySelector('#' + key + ' button');\n",
              "      quickchartButtonEl.disabled = true;  // To prevent multiple clicks.\n",
              "      quickchartButtonEl.classList.add('colab-df-spinner');\n",
              "      try {\n",
              "        const charts = await google.colab.kernel.invokeFunction(\n",
              "            'suggestCharts', [key], {});\n",
              "      } catch (error) {\n",
              "        console.error('Error during call to suggestCharts:', error);\n",
              "      }\n",
              "      quickchartButtonEl.classList.remove('colab-df-spinner');\n",
              "      quickchartButtonEl.classList.add('colab-df-quickchart-complete');\n",
              "    }\n",
              "    (() => {\n",
              "      let quickchartButtonEl =\n",
              "        document.querySelector('#df-a7bcbb71-bf92-42d1-bd08-f37d81903c4d button');\n",
              "      quickchartButtonEl.style.display =\n",
              "        google.colab.kernel.accessAllowed ? 'block' : 'none';\n",
              "    })();\n",
              "  </script>\n",
              "</div>\n",
              "\n",
              "  <div id=\"id_8f2220df-4c1c-466e-a855-180a0348dc62\">\n",
              "    <style>\n",
              "      .colab-df-generate {\n",
              "        background-color: #E8F0FE;\n",
              "        border: none;\n",
              "        border-radius: 50%;\n",
              "        cursor: pointer;\n",
              "        display: none;\n",
              "        fill: #1967D2;\n",
              "        height: 32px;\n",
              "        padding: 0 0 0 0;\n",
              "        width: 32px;\n",
              "      }\n",
              "\n",
              "      .colab-df-generate:hover {\n",
              "        background-color: #E2EBFA;\n",
              "        box-shadow: 0px 1px 2px rgba(60, 64, 67, 0.3), 0px 1px 3px 1px rgba(60, 64, 67, 0.15);\n",
              "        fill: #174EA6;\n",
              "      }\n",
              "\n",
              "      [theme=dark] .colab-df-generate {\n",
              "        background-color: #3B4455;\n",
              "        fill: #D2E3FC;\n",
              "      }\n",
              "\n",
              "      [theme=dark] .colab-df-generate:hover {\n",
              "        background-color: #434B5C;\n",
              "        box-shadow: 0px 1px 3px 1px rgba(0, 0, 0, 0.15);\n",
              "        filter: drop-shadow(0px 1px 2px rgba(0, 0, 0, 0.3));\n",
              "        fill: #FFFFFF;\n",
              "      }\n",
              "    </style>\n",
              "    <button class=\"colab-df-generate\" onclick=\"generateWithVariable('data')\"\n",
              "            title=\"Generate code using this dataframe.\"\n",
              "            style=\"display:none;\">\n",
              "\n",
              "  <svg xmlns=\"http://www.w3.org/2000/svg\" height=\"24px\"viewBox=\"0 0 24 24\"\n",
              "       width=\"24px\">\n",
              "    <path d=\"M7,19H8.4L18.45,9,17,7.55,7,17.6ZM5,21V16.75L18.45,3.32a2,2,0,0,1,2.83,0l1.4,1.43a1.91,1.91,0,0,1,.58,1.4,1.91,1.91,0,0,1-.58,1.4L9.25,21ZM18.45,9,17,7.55Zm-12,3A5.31,5.31,0,0,0,4.9,8.1,5.31,5.31,0,0,0,1,6.5,5.31,5.31,0,0,0,4.9,4.9,5.31,5.31,0,0,0,6.5,1,5.31,5.31,0,0,0,8.1,4.9,5.31,5.31,0,0,0,12,6.5,5.46,5.46,0,0,0,6.5,12Z\"/>\n",
              "  </svg>\n",
              "    </button>\n",
              "    <script>\n",
              "      (() => {\n",
              "      const buttonEl =\n",
              "        document.querySelector('#id_8f2220df-4c1c-466e-a855-180a0348dc62 button.colab-df-generate');\n",
              "      buttonEl.style.display =\n",
              "        google.colab.kernel.accessAllowed ? 'block' : 'none';\n",
              "\n",
              "      buttonEl.onclick = () => {\n",
              "        google.colab.notebook.generateWithVariable('data');\n",
              "      }\n",
              "      })();\n",
              "    </script>\n",
              "  </div>\n",
              "\n",
              "    </div>\n",
              "  </div>\n"
            ],
            "application/vnd.google.colaboratory.intrinsic+json": {
              "type": "dataframe",
              "variable_name": "data",
              "summary": "{\n  \"name\": \"data\",\n  \"rows\": 1787,\n  \"fields\": [\n    {\n      \"column\": \"\\u0422\\u0432\\u0438\\u0442\\u043d\\u0443\\u0442\\u044c\",\n      \"properties\": {\n        \"dtype\": \"string\",\n        \"num_unique_values\": 1775,\n        \"samples\": [\n          \"@Farbelowaverag1,,\\u0418 \\u044f \\u043f\\u0440\\u043e\\u0441\\u0442\\u043e \\u043d\\u0435 \\u0445\\u043e\\u0447\\u0443 \\u0431\\u043e\\u043b\\u044c\\u0448\\u0435 \\u0437\\u0434\\u0435\\u0441\\u044c \\u043d\\u0430\\u0445\\u043e\\u0434\\u0438\\u0442\\u044c\\u0441\\u044f. \\u041f\\u043e\\u0436\\u0430\\u043b\\u0443\\u0439\\u0441\\u0442\\u0430, \\u043a\\u0442\\u043e-\\u043d\\u0438\\u0431\\u0443\\u0434\\u044c, \\u043f\\u0440\\u043e\\u0441\\u0442\\u043e \\u043f\\u0440\\u0438\\u043a\\u043e\\u043d\\u0447\\u0438\\u0442\\u0435 \\u043c\\u0435\\u043d\\u044f, \\u043f\\u043e\\u0442\\u043e\\u043c\\u0443 \\u0447\\u0442\\u043e \\u044f \\u0437\\u043d\\u0430\\u044e, \\u0447\\u0442\\u043e \\u0434\\u043b\\u044f \\u0432\\u0441\\u0435\\u0445 \\u0431\\u0443\\u0434\\u0435\\u0442 \\u0445\\u0443\\u0436\\u0435, \\u0435\\u0441\\u043b\\u0438 \\u044f \\u0441\\u0434\\u0435\\u043b\\u0430\\u044e \\u044d\\u0442\\u043e \\u0441\\u0430\\u043c, \\u0438, \\u0447\\u0435\\u0440\\u0442 \\u0432\\u043e\\u0437\\u044c\\u043c\\u0438, \\u044f \\u0445\\u043e\\u0447\\u0443 \\u044d\\u0442\\u043e\\u0433\\u043e, \\u043d\\u043e, \\u043f\\u043e\\u0436\\u0430\\u043b\\u0443\\u0439\\u0441\\u0442\\u0430, \\u043a\\u0442\\u043e-\\u043d\\u0438\\u0431\\u0443\\u0434\\u044c, \\u043f\\u0440\\u043e\\u0441\\u0442\\u043e \\u0443\\u0431\\u0435\\u0439\\u0442\\u0435 \\u043c\\u0435\\u043d\\u044f, \\u043f\\u043e\\u0436\\u0430\\u043b\\u0443\\u0439\\u0441\\u0442\\u0430.\",\n          \"@thefreerpgblog \\u0420\\u0430\\u0434, \\u0447\\u0442\\u043e \\u0432\\u0430\\u043c \\u043f\\u043e\\u043d\\u0440\\u0430\\u0432\\u0438\\u043b\\u043e\\u0441\\u044c!\",\n          \"@kingxhesh,,\\u0443\\u0431\\u0435\\u0439 \\u043c\\u0435\\u043d\\u044f \\u0443\\u0436\\u0435, \\u044f \\u043d\\u0435 \\u0445\\u043e\\u0447\\u0443 \\u0437\\u0434\\u0435\\u0441\\u044c \\u0431\\u043e\\u043b\\u044c\\u0448\\u0435 \\u043d\\u0430\\u0445\\u043e\\u0434\\u0438\\u0442\\u044c\\u0441\\u044f\"\n        ],\n        \"semantic_type\": \"\",\n        \"description\": \"\"\n      }\n    },\n    {\n      \"column\": \"\\u0421\\u0430\\u043c\\u043e\\u0443\\u0431\\u0438\\u0439\\u0441\\u0442\\u0432\\u043e\",\n      \"properties\": {\n        \"dtype\": \"category\",\n        \"num_unique_values\": 2,\n        \"samples\": [\n          \"\\u041f\\u043e\\u0441\\u0442 \\u043e \\u043f\\u043e\\u0442\\u0435\\u043d\\u0446\\u0438\\u0430\\u043b\\u044c\\u043d\\u043e\\u043c \\u0441\\u0430\\u043c\\u043e\\u0443\\u0431\\u0438\\u0439\\u0441\\u0442\\u0432\\u0435\",\n          \"\\u041d\\u0435 \\u0441\\u0443\\u0438\\u0446\\u0438\\u0434\\u043d\\u044b\\u0439 \\u043f\\u043e\\u0441\\u0442\"\n        ],\n        \"semantic_type\": \"\",\n        \"description\": \"\"\n      }\n    }\n  ]\n}"
            }
          },
          "metadata": {}
        },
        {
          "output_type": "stream",
          "name": "stdout",
          "text": [
            "<class 'pandas.core.frame.DataFrame'>\n",
            "RangeIndex: 1787 entries, 0 to 1786\n",
            "Data columns (total 2 columns):\n",
            " #   Column        Non-Null Count  Dtype \n",
            "---  ------        --------------  ----- \n",
            " 0   Твитнуть      1787 non-null   object\n",
            " 1   Самоубийство  1787 non-null   object\n",
            "dtypes: object(2)\n",
            "memory usage: 28.0+ KB\n"
          ]
        },
        {
          "output_type": "display_data",
          "data": {
            "text/plain": [
              "None"
            ]
          },
          "metadata": {}
        }
      ],
      "source": [
        "import numpy as np\n",
        "import pandas as pd\n",
        "import matplotlib.pyplot as plt\n",
        "from IPython.display import display, HTML\n",
        "data = pd.read_csv('/content/dataset_unclean_translated.csv')\n",
        "display(data)\n",
        "display(data.info())"
      ]
    },
    {
      "cell_type": "markdown",
      "metadata": {
        "id": "pqFw3D3aQWUf"
      },
      "source": [
        "В данном датасете информация о 1787 твитах (англоязычных пользователей, переведенных на русский язык), которые проходили оценку и распределялись по 2м категориям: «Не суицидный пост» и «Пост о потенциальном самоубийстве»\n",
        "Содержит 1787 строк, 2 столбца («Твитнуть» и «Самоубийство» ), оба столбца имеют тип object. Дата сет в столбце «Твитнуть» содержит лишние данные в качестве ссылок на твит. В том числе не читаемые символы."
      ]
    },
    {
      "cell_type": "code",
      "execution_count": null,
      "metadata": {
        "id": "ndnRR2TyQWUk",
        "outputId": "bf84bacf-7e62-48dc-9f7c-1784fbd8a2ed"
      },
      "outputs": [
        {
          "data": {
            "text/plain": [
              "Твитнуть        0\n",
              "Самоубийство    0\n",
              "dtype: int64"
            ]
          },
          "metadata": {},
          "output_type": "display_data"
        }
      ],
      "source": [
        "#Идентификация пропущенных значений (NaN, NULL, пустых строк и т. д.) в датафрейме\n",
        "filtered_colums = data.eq(\"\").sum()\n",
        "display(filtered_colums)"
      ]
    },
    {
      "cell_type": "markdown",
      "metadata": {
        "id": "e9vTIIT6QWUl"
      },
      "source": [
        "Идентификация пропущенных значений (NaN, NULL, пустых строк и т. д.) в датафрейме. По результатам проверки пустых строк в датафрейме нет.\n",
        "Идентификация выбросов данных. Вводим дамми переменные для столбца «самоубийство» для удобства оценки. И переводим в двоичный код."
      ]
    },
    {
      "cell_type": "code",
      "execution_count": null,
      "metadata": {
        "id": "S-_60DGnQWUm",
        "outputId": "a9991cdb-4e07-4d20-8d54-27f11179334d"
      },
      "outputs": [
        {
          "data": {
            "text/html": [
              "<div>\n",
              "<style scoped>\n",
              "    .dataframe tbody tr th:only-of-type {\n",
              "        vertical-align: middle;\n",
              "    }\n",
              "\n",
              "    .dataframe tbody tr th {\n",
              "        vertical-align: top;\n",
              "    }\n",
              "\n",
              "    .dataframe thead th {\n",
              "        text-align: right;\n",
              "    }\n",
              "</style>\n",
              "<table border=\"1\" class=\"dataframe\">\n",
              "  <thead>\n",
              "    <tr style=\"text-align: right;\">\n",
              "      <th></th>\n",
              "      <th>Пост о потенциальном самоубийстве</th>\n",
              "    </tr>\n",
              "  </thead>\n",
              "  <tbody>\n",
              "    <tr>\n",
              "      <th>0</th>\n",
              "      <td>False</td>\n",
              "    </tr>\n",
              "    <tr>\n",
              "      <th>1</th>\n",
              "      <td>False</td>\n",
              "    </tr>\n",
              "    <tr>\n",
              "      <th>2</th>\n",
              "      <td>True</td>\n",
              "    </tr>\n",
              "    <tr>\n",
              "      <th>3</th>\n",
              "      <td>False</td>\n",
              "    </tr>\n",
              "    <tr>\n",
              "      <th>4</th>\n",
              "      <td>False</td>\n",
              "    </tr>\n",
              "    <tr>\n",
              "      <th>...</th>\n",
              "      <td>...</td>\n",
              "    </tr>\n",
              "    <tr>\n",
              "      <th>1782</th>\n",
              "      <td>False</td>\n",
              "    </tr>\n",
              "    <tr>\n",
              "      <th>1783</th>\n",
              "      <td>False</td>\n",
              "    </tr>\n",
              "    <tr>\n",
              "      <th>1784</th>\n",
              "      <td>False</td>\n",
              "    </tr>\n",
              "    <tr>\n",
              "      <th>1785</th>\n",
              "      <td>False</td>\n",
              "    </tr>\n",
              "    <tr>\n",
              "      <th>1786</th>\n",
              "      <td>False</td>\n",
              "    </tr>\n",
              "  </tbody>\n",
              "</table>\n",
              "<p>1787 rows × 1 columns</p>\n",
              "</div>"
            ],
            "text/plain": [
              "      Пост о потенциальном самоубийстве\n",
              "0                                 False\n",
              "1                                 False\n",
              "2                                  True\n",
              "3                                 False\n",
              "4                                 False\n",
              "...                                 ...\n",
              "1782                              False\n",
              "1783                              False\n",
              "1784                              False\n",
              "1785                              False\n",
              "1786                              False\n",
              "\n",
              "[1787 rows x 1 columns]"
            ]
          },
          "metadata": {},
          "output_type": "display_data"
        }
      ],
      "source": [
        "# вводим дамми переменные для преобразования категориальных признаков в числовые для подсчета данных\n",
        "data['Самоубийство']= data['Самоубийство'].astype(str)\n",
        "data_dummies = pd.get_dummies(data['Самоубийство'], drop_first=True, dummy_na=False)\n",
        "display(data_dummies)"
      ]
    },
    {
      "cell_type": "code",
      "execution_count": null,
      "metadata": {
        "id": "T7nZwaR8QWUn",
        "outputId": "1ad7d9c2-8dcc-40ae-80b7-9635efbe89eb"
      },
      "outputs": [
        {
          "data": {
            "text/html": [
              "<div>\n",
              "<style scoped>\n",
              "    .dataframe tbody tr th:only-of-type {\n",
              "        vertical-align: middle;\n",
              "    }\n",
              "\n",
              "    .dataframe tbody tr th {\n",
              "        vertical-align: top;\n",
              "    }\n",
              "\n",
              "    .dataframe thead th {\n",
              "        text-align: right;\n",
              "    }\n",
              "</style>\n",
              "<table border=\"1\" class=\"dataframe\">\n",
              "  <thead>\n",
              "    <tr style=\"text-align: right;\">\n",
              "      <th></th>\n",
              "      <th>Пост о потенциальном самоубийстве</th>\n",
              "    </tr>\n",
              "    <tr>\n",
              "      <th>Пост о потенциальном самоубийстве</th>\n",
              "      <th></th>\n",
              "    </tr>\n",
              "  </thead>\n",
              "  <tbody>\n",
              "    <tr>\n",
              "      <th>False</th>\n",
              "      <td>1127</td>\n",
              "    </tr>\n",
              "    <tr>\n",
              "      <th>True</th>\n",
              "      <td>660</td>\n",
              "    </tr>\n",
              "  </tbody>\n",
              "</table>\n",
              "</div>"
            ],
            "text/plain": [
              "                                   Пост о потенциальном самоубийстве\n",
              "Пост о потенциальном самоубийстве                                   \n",
              "False                                                           1127\n",
              "True                                                             660"
            ]
          },
          "metadata": {},
          "output_type": "display_data"
        },
        {
          "data": {
            "text/plain": [
              "0       0\n",
              "1       0\n",
              "2       1\n",
              "3       0\n",
              "4       0\n",
              "       ..\n",
              "1782    0\n",
              "1783    0\n",
              "1784    0\n",
              "1785    0\n",
              "1786    0\n",
              "Name: Пост о потенциальном самоубийстве, Length: 1787, dtype: int64"
            ]
          },
          "metadata": {},
          "output_type": "display_data"
        }
      ],
      "source": [
        "#Посчитаем сколько постов относятся к  «Пост о потенциальном самоубийстве»\n",
        "data_dummies = pd.get_dummies(data['Самоубийство'], drop_first=True, dummy_na=False)\n",
        "bool_counts = data_dummies.select_dtypes(include='bool').apply(lambda x: x.value_counts())\n",
        "display(bool_counts)\n",
        "# изменяем булевые переменные на двоичный код (1 и 0), для удобного подсчета в графике\n",
        "data_dummies['Пост о потенциальном самоубийстве'] = data_dummies['Пост о потенциальном самоубийстве'].astype(int)\n",
        "display(data_dummies['Пост о потенциальном самоубийстве'])\n"
      ]
    },
    {
      "cell_type": "markdown",
      "metadata": {
        "id": "Dmt8PjsXQWUo"
      },
      "source": [
        "Посчитаем сколько постов относятся к  «Пост о потенциальном самоубийстве», получаем что : «Не суицидный пост» - 1127  и «Пост о потенциальном самоубийстве» - 660"
      ]
    },
    {
      "cell_type": "code",
      "execution_count": null,
      "metadata": {
        "id": "wuVNIMU4QWUo",
        "outputId": "05eec923-b721-450f-9710-ee9cc3b11f38"
      },
      "outputs": [
        {
          "data": {
            "text/plain": [
              "Text(0.5, 1.0, 'Suicide')"
            ]
          },
          "execution_count": 65,
          "metadata": {},
          "output_type": "execute_result"
        },
        {
          "data": {
            "image/png": "[encoded data removed]",
            "text/plain": [
              "<Figure size 300x300 with 1 Axes>"
            ]
          },
          "metadata": {},
          "output_type": "display_data"
        }
      ],
      "source": [
        "# построим гистограмму для того, чтобы оценить наличие или отсутствие выбросов данных\n",
        "import matplotlib.pyplot as plt\n",
        "fig = plt.figure(figsize=(3, 3))\n",
        "axes = fig.add_axes([0,0,1,1])\n",
        "axes.hist(x=data_dummies['Пост о потенциальном самоубийстве'], label= ['Suicide'], color = 'lime', bins = 2)\n",
        "axes.set_title('Suicide')"
      ]
    },
    {
      "cell_type": "markdown",
      "metadata": {
        "id": "r7r6crIgQWUp"
      },
      "source": [
        "Как и предполагалось в связи с наличием только 2х параметров, выбросов не наблюдается.\n",
        "Удаляем ссылки на твиты. Удаляем лишние символы. И ники пользователей начинающиеся на @."
      ]
    },
    {
      "cell_type": "code",
      "execution_count": null,
      "metadata": {
        "id": "yYLYJNLUQWUp",
        "outputId": "9d2ebd3f-ee9a-4d95-98c6-a8cb240bbf83"
      },
      "outputs": [
        {
          "data": {
            "text/html": [
              "<table border=\"1\" class=\"dataframe\">\n",
              "  <thead>\n",
              "    <tr style=\"text-align: right;\">\n",
              "      <th></th>\n",
              "      <th>Твитнуть</th>\n",
              "      <th>Самоубийство</th>\n",
              "    </tr>\n",
              "  </thead>\n",
              "  <tbody>\n",
              "    <tr>\n",
              "      <th>0</th>\n",
              "      <td>готовлю обед</td>\n",
              "      <td>Не суицидный пост</td>\n",
              "    </tr>\n",
              "    <tr>\n",
              "      <th>1</th>\n",
              "      <td>Тебе нужны его деньги.</td>\n",
              "      <td>Не суицидный пост</td>\n",
              "    </tr>\n",
              "    <tr>\n",
              "      <th>2</th>\n",
              "      <td>мне потребовалась целая вечность, чтобы собрать эту ерунду. я собираюсь пойти спать на несколько ДНЕЙ</td>\n",
              "      <td>Пост о потенциальном самоубийстве</td>\n",
              "    </tr>\n",
              "    <tr>\n",
              "      <th>3</th>\n",
              "      <td>Привет, Джер! С каких это пор ты начал твиттерить?</td>\n",
              "      <td>Не суицидный пост</td>\n",
              "    </tr>\n",
              "    <tr>\n",
              "      <th>4</th>\n",
              "      <td>Пробуем «Вкусную библиотеку 2»; с неоднозначными результатами. Штрихкод подумал, что я хочу добавить спортивный бюстгальтер вместо тренировки. Крутое приложение!</td>\n",
              "      <td>Не суицидный пост</td>\n",
              "    </tr>\n",
              "    <tr>\n",
              "      <th>5</th>\n",
              "      <td>О, приятно это слышать. Но неужели все уже закончилось? Или вы продолжите это после Страстной недели?</td>\n",
              "      <td>Не суицидный пост</td>\n",
              "    </tr>\n",
              "    <tr>\n",
              "      <th>6</th>\n",
              "      <td>у тебя есть список других ? Тебе придется поделиться этим, Амиго!</td>\n",
              "      <td>Не суицидный пост</td>\n",
              "    </tr>\n",
              "    <tr>\n",
              "      <th>7</th>\n",
              "      <td>То, что Шейн снял о тебе сериал, не означает, что люди воспринимают тебя всерьез, да…</td>\n",
              "      <td>Пост о потенциальном самоубийстве</td>\n",
              "    </tr>\n",
              "    <tr>\n",
              "      <th>8</th>\n",
              "      <td>Пришло время расслабиться в варшавском пивном саду</td>\n",
              "      <td>Не суицидный пост</td>\n",
              "    </tr>\n",
              "    <tr>\n",
              "      <th>9</th>\n",
              "      <td>Я ненавижу свою жизнь, я надеюсь, что скоро умру или умру, я слишком устал от всего</td>\n",
              "      <td>Пост о потенциальном самоубийстве</td>\n",
              "    </tr>\n",
              "    <tr>\n",
              "      <th>10</th>\n",
              "      <td>Все, что делает для вас ваш возлюбленный, направлено на ее выживание, все, что делает для вас ваша мать, — на ваше выживание.</td>\n",
              "      <td>Не суицидный пост</td>\n",
              "    </tr>\n",
              "    <tr>\n",
              "      <th>11</th>\n",
              "      <td>В кампусе живет бездомный кот, похожий на Гарфилда. Студенты его постоянно кормят, поэтому он очень толстый. Как я.</td>\n",
              "      <td>Не суицидный пост</td>\n",
              "    </tr>\n",
              "    <tr>\n",
              "      <th>12</th>\n",
              "      <td>находится в пути...</td>\n",
              "      <td>Не суицидный пост</td>\n",
              "    </tr>\n",
              "    <tr>\n",
              "      <th>13</th>\n",
              "      <td>У меня есть ужасная привычка избегать написания статей, просматривая в Instagram прямые трансляции детей, для которых я работала няней…</td>\n",
              "      <td>Пост о потенциальном самоубийстве</td>\n",
              "    </tr>\n",
              "    <tr>\n",
              "      <th>14</th>\n",
              "      <td>Хаха. Ну, у меня есть еще, но мне не нужно ничего делать, кроме как отложить остальные или удалить их.</td>\n",
              "      <td>Не суицидный пост</td>\n",
              "    </tr>\n",
              "    <tr>\n",
              "      <th>15</th>\n",
              "      <td>Гооооооо, а ты как?</td>\n",
              "      <td>Не суицидный пост</td>\n",
              "    </tr>\n",
              "    <tr>\n",
              "      <th>16</th>\n",
              "      <td>Я хочу сказать, что больше никогда не буду активен. Не совсем уверен, в любом случае у меня нет причин здесь оставаться, всем пока…</td>\n",
              "      <td>Пост о потенциальном самоубийстве</td>\n",
              "    </tr>\n",
              "    <tr>\n",
              "      <th>17</th>\n",
              "      <td>Сосредоточьтесь на возможностях больше, чем на деньгах.</td>\n",
              "      <td>Не суицидный пост</td>\n",
              "    </tr>\n",
              "    <tr>\n",
              "      <th>18</th>\n",
              "      <td>КТОнибудь, ПОЖАЛУЙСТА, УБЕЙ МЕНЯ, Я ТАК ЛЮБЛЮ</td>\n",
              "      <td>Пост о потенциальном самоубийстве</td>\n",
              "    </tr>\n",
              "    <tr>\n",
              "      <th>19</th>\n",
              "      <td>Я сейчас на той стадии семестра, когда я так устал от всего. Я просто хочу перевернуться и умереть.</td>\n",
              "      <td>Пост о потенциальном самоубийстве</td>\n",
              "    </tr>\n",
              "    <tr>\n",
              "      <th>20</th>\n",
              "      <td>gerruseng,я так хочу умереть, не хочу больше здесь находиться</td>\n",
              "      <td>Пост о потенциальном самоубийстве</td>\n",
              "    </tr>\n",
              "    <tr>\n",
              "      <th>21</th>\n",
              "      <td>И я ненавижу тот факт, что если это правда, что Доджэ сделает операцию, Додже придется терпеть боль в одиночку '( без Сегье</td>\n",
              "      <td>Пост о потенциальном самоубийстве</td>\n",
              "    </tr>\n",
              "    <tr>\n",
              "      <th>22</th>\n",
              "      <td>Когда ты устал жить своей жизнью, все, что ты можешь сделать, это закрыть глаза и пойти спать...</td>\n",
              "      <td>Пост о потенциальном самоубийстве</td>\n",
              "    </tr>\n",
              "    <tr>\n",
              "      <th>23</th>\n",
              "      <td>я собираюсь покончить с собой прямо сейчас, мне жаль, что ты в таком отчаянии</td>\n",
              "      <td>Пост о потенциальном самоубийстве</td>\n",
              "    </tr>\n",
              "    <tr>\n",
              "      <th>24</th>\n",
              "      <td>наслаждайся, я просто не могу вникнуть в это в этом сезоне, но рад узнать, что ты в деле.</td>\n",
              "      <td>Не суицидный пост</td>\n",
              "    </tr>\n",
              "  </tbody>\n",
              "</table>"
            ],
            "text/plain": [
              "<IPython.core.display.HTML object>"
            ]
          },
          "metadata": {},
          "output_type": "display_data"
        }
      ],
      "source": [
        "# используем IPython.display для красивого вывода всего текста в таблице\n",
        "from IPython.display import display, HTML\n",
        "data['Твитнуть'] = data['Твитнуть'].replace(r'http[s]?://\\S+|@\\w+|/|&\\w+|ð\\w+|¶+|RT|aâ¦|@|w\\w+|:|#\\w+|_|-|ð|ó|¦|§|®|¥|¢|´|¿|Ã¯ÂÂ½', '', regex=True)\n",
        "data['Твитнуть'] = data['Твитнуть'].str.replace(r'^\\,+', '', regex=True)\n",
        "data['Твитнуть'] = data['Твитнуть'].str.lstrip()\n",
        "display(HTML(data.head(10).to_html()))"
      ]
    },
    {
      "cell_type": "markdown",
      "metadata": {
        "id": "SjD7pGsoQWUq"
      },
      "source": [
        "Очищенные данные вполне логичны и их можно использовать. НО при просмотре данных выявлены некачественные строки. Соответственно после предобработки, качество этой строки так же осталось неудовлетворительным - 499, 507, 538, 1004, 1019, 1049 - удалим\n",
        "\n"
      ]
    },
    {
      "cell_type": "code",
      "execution_count": null,
      "metadata": {
        "id": "BCV1iNFRQWUq"
      },
      "outputs": [],
      "source": [
        "#Удалим некачественные строки\n",
        "data1 = data.drop(index=[497, 505, 536, 1002, 1017, 1047])"
      ]
    },
    {
      "cell_type": "code",
      "execution_count": null,
      "metadata": {
        "id": "L3DSIO-YQWUq",
        "outputId": "b079ca09-7263-4382-c897-5c5b09ec426a"
      },
      "outputs": [
        {
          "name": "stdout",
          "output_type": "stream",
          "text": [
            "<class 'pandas.core.frame.DataFrame'>\n",
            "Index: 1781 entries, 0 to 1786\n",
            "Data columns (total 2 columns):\n",
            " #   Column        Non-Null Count  Dtype \n",
            "---  ------        --------------  ----- \n",
            " 0   Твитнуть      1781 non-null   object\n",
            " 1   Самоубийство  1781 non-null   object\n",
            "dtypes: object(2)\n",
            "memory usage: 41.7+ KB\n"
          ]
        },
        {
          "data": {
            "text/plain": [
              "None"
            ]
          },
          "metadata": {},
          "output_type": "display_data"
        },
        {
          "data": {
            "text/html": [
              "<div>\n",
              "<style scoped>\n",
              "    .dataframe tbody tr th:only-of-type {\n",
              "        vertical-align: middle;\n",
              "    }\n",
              "\n",
              "    .dataframe tbody tr th {\n",
              "        vertical-align: top;\n",
              "    }\n",
              "\n",
              "    .dataframe thead th {\n",
              "        text-align: right;\n",
              "    }\n",
              "</style>\n",
              "<table border=\"1\" class=\"dataframe\">\n",
              "  <thead>\n",
              "    <tr style=\"text-align: right;\">\n",
              "      <th></th>\n",
              "      <th>Пост о потенциальном самоубийстве</th>\n",
              "    </tr>\n",
              "    <tr>\n",
              "      <th>Пост о потенциальном самоубийстве</th>\n",
              "      <th></th>\n",
              "    </tr>\n",
              "  </thead>\n",
              "  <tbody>\n",
              "    <tr>\n",
              "      <th>False</th>\n",
              "      <td>1124</td>\n",
              "    </tr>\n",
              "    <tr>\n",
              "      <th>True</th>\n",
              "      <td>657</td>\n",
              "    </tr>\n",
              "  </tbody>\n",
              "</table>\n",
              "</div>"
            ],
            "text/plain": [
              "                                   Пост о потенциальном самоубийстве\n",
              "Пост о потенциальном самоубийстве                                   \n",
              "False                                                           1124\n",
              "True                                                             657"
            ]
          },
          "metadata": {},
          "output_type": "display_data"
        }
      ],
      "source": [
        "#Снова посчитаем данные о количестве постов\n",
        "data_dummies1 = pd.get_dummies(data1['Самоубийство'], drop_first=True, dummy_na=False)\n",
        "bool_counts1 = data_dummies1.select_dtypes(include='bool').apply(lambda x: x.value_counts())\n",
        "display(data1.info())\n",
        "display(bool_counts1)"
      ]
    },
    {
      "cell_type": "markdown",
      "metadata": {
        "id": "Jv3prh5FQWUr"
      },
      "source": [
        "Теперь дата сет содержит 1781 строку. Снова посчитаем данные о количестве постов в «Пост о потенциальном самоубийстве», получаем что : «Не суицидный пост» - 1124  и «Пост о потенциальном самоубийстве» - 657"
      ]
    },
    {
      "cell_type": "code",
      "execution_count": null,
      "metadata": {
        "id": "RMQxuVitQWUr"
      },
      "outputs": [],
      "source": [
        "# сохраним новый вариант Датасета\n",
        "data1.to_csv('/content/dataset_clean_translated.csv', index=False, sep=';')"
      ]
    },
    {
      "cell_type": "code",
      "execution_count": null,
      "metadata": {
        "id": "o_yShMqIQWUr"
      },
      "outputs": [],
      "source": []
    }
  ],
  "metadata": {
    "kernelspec": {
      "display_name": "Python 3",
      "language": "python",
      "name": "python3"
    },
    "language_info": {
      "codemirror_mode": {
        "name": "ipython",
        "version": 3
      },
      "file_extension": ".py",
      "mimetype": "text/x-python",
      "name": "python",
      "nbconvert_exporter": "python",
      "pygments_lexer": "ipython3",
      "version": "3.13.0"
    },
    "colab": {
      "provenance": [],
      "include_colab_link": true
    }
  },
  "nbformat": 4,
  "nbformat_minor": 0
}